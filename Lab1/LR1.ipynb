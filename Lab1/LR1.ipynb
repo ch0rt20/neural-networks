{
 "cells": [
  {
   "cell_type": "markdown",
   "id": "ec87a20b",
   "metadata": {},
   "source": [
    "# Лабораторная работа №1"
   ]
  },
  {
   "cell_type": "markdown",
   "id": "c1abd96f",
   "metadata": {},
   "source": [
    "Блок с нейросетью"
   ]
  },
  {
   "cell_type": "code",
   "execution_count": 1,
   "id": "af81187e",
   "metadata": {},
   "outputs": [],
   "source": [
    "import numpy as np\n",
    "\n",
    "def neural_net(input, weights): \n",
    "    \n",
    "    output = np.zeros(len(weights)) #массив, состоящий из нулей\n",
    "    \n",
    "    if (isinstance(input,int)): #проверка на целостность input\n",
    "        for i in range(0, len(weights)):\n",
    "            output[i] = input * weights[i] #получение координат посредством умножения входного значения и весов\n",
    "        return output #вывод при целочисленном input\n",
    "    \n",
    "    else:\n",
    "        for i in range(len(input)):\n",
    "            output[i] = input[i] * weights[i] #получение координат посредством умножения входных значений и весов\n",
    "        return output #вывод при input массиве\n",
    "        "
   ]
  },
  {
   "cell_type": "markdown",
   "id": "6304cec9",
   "metadata": {},
   "source": [
    "Блок с вычислениями координат"
   ]
  },
  {
   "cell_type": "code",
   "execution_count": 2,
   "id": "af66cca5",
   "metadata": {
    "scrolled": true
   },
   "outputs": [
    {
     "name": "stdout",
     "output_type": "stream",
     "text": [
      "Значения весов:\n",
      "0.7975252252657539 , -0.8239379989920268\n",
      "-1.2864826446160933 , 0.5479515270293298\n",
      "0.8076451577315296 , -1.0914568512767686\n",
      "\n",
      "Значения прогнозов:\n",
      "Слой 1:  [ 11.96287838 -12.35906998]\n",
      "Слой 2:  [-15.39003541  -6.77217127]\n",
      "Слой 3:  [-12.42968758   7.39153273]\n"
     ]
    }
   ],
   "source": [
    "import random\n",
    "\n",
    "input = 15 #равен порядковому номеру в группе\n",
    "\n",
    "#генерация весов в дивапозоне от -1.5 до 1.5\n",
    "weights_1 = [random.uniform(-1.5, 1.5), random.uniform(-1.5, 1.5)]\n",
    "weights_2 = [random.uniform(-1.5, 1.5), random.uniform(-1.5, 1.5)]\n",
    "weights_3 = [random.uniform(-1.5, 1.5), random.uniform(-1.5, 1.5)]\n",
    "\n",
    "print ('Значения весов:')\n",
    "print (weights_1[0],  ',', weights_1[1])\n",
    "print (weights_2[0],  ',', weights_2[1])\n",
    "print (weights_3[0],  ',', weights_3[1])\n",
    "\n",
    "print ()\n",
    "print ('Значения прогнозов:')\n",
    "\n",
    "#трёхслойная нейросеть\n",
    "predict = neural_net(input, weights_1) #слой 1 - вход\n",
    "print ('Слой 1: ', predict)\n",
    "predict = neural_net(predict, weights_2) #слой 2 - обработка\n",
    "print ('Слой 2: ', predict)\n",
    "predict = neural_net(predict, weights_3) #слой 3 - вывод\n",
    "print ('Слой 3: ', predict)"
   ]
  },
  {
   "cell_type": "markdown",
   "id": "28d24157",
   "metadata": {},
   "source": [
    "Блок с выводом карты"
   ]
  },
  {
   "cell_type": "code",
   "execution_count": 3,
   "id": "08fc5b89",
   "metadata": {
    "scrolled": true
   },
   "outputs": [
    {
     "data": {
      "text/html": [
       "<div style=\"width:100%;\"><div style=\"position:relative;width:100%;height:0;padding-bottom:60%;\"><span style=\"color:#565656\">Make this Notebook Trusted to load map: File -> Trust Notebook</span><iframe srcdoc=\"&lt;!DOCTYPE html&gt;\n",
       "&lt;html&gt;\n",
       "&lt;head&gt;\n",
       "    \n",
       "    &lt;meta http-equiv=&quot;content-type&quot; content=&quot;text/html; charset=UTF-8&quot; /&gt;\n",
       "    \n",
       "        &lt;script&gt;\n",
       "            L_NO_TOUCH = false;\n",
       "            L_DISABLE_3D = false;\n",
       "        &lt;/script&gt;\n",
       "    \n",
       "    &lt;style&gt;html, body {width: 100%;height: 100%;margin: 0;padding: 0;}&lt;/style&gt;\n",
       "    &lt;style&gt;#map {position:absolute;top:0;bottom:0;right:0;left:0;}&lt;/style&gt;\n",
       "    &lt;script src=&quot;https://cdn.jsdelivr.net/npm/leaflet@1.9.3/dist/leaflet.js&quot;&gt;&lt;/script&gt;\n",
       "    &lt;script src=&quot;https://code.jquery.com/jquery-3.7.1.min.js&quot;&gt;&lt;/script&gt;\n",
       "    &lt;script src=&quot;https://cdn.jsdelivr.net/npm/bootstrap@5.2.2/dist/js/bootstrap.bundle.min.js&quot;&gt;&lt;/script&gt;\n",
       "    &lt;script src=&quot;https://cdnjs.cloudflare.com/ajax/libs/Leaflet.awesome-markers/2.0.2/leaflet.awesome-markers.js&quot;&gt;&lt;/script&gt;\n",
       "    &lt;link rel=&quot;stylesheet&quot; href=&quot;https://cdn.jsdelivr.net/npm/leaflet@1.9.3/dist/leaflet.css&quot;/&gt;\n",
       "    &lt;link rel=&quot;stylesheet&quot; href=&quot;https://cdn.jsdelivr.net/npm/bootstrap@5.2.2/dist/css/bootstrap.min.css&quot;/&gt;\n",
       "    &lt;link rel=&quot;stylesheet&quot; href=&quot;https://netdna.bootstrapcdn.com/bootstrap/3.0.0/css/bootstrap.min.css&quot;/&gt;\n",
       "    &lt;link rel=&quot;stylesheet&quot; href=&quot;https://cdn.jsdelivr.net/npm/@fortawesome/fontawesome-free@6.2.0/css/all.min.css&quot;/&gt;\n",
       "    &lt;link rel=&quot;stylesheet&quot; href=&quot;https://cdnjs.cloudflare.com/ajax/libs/Leaflet.awesome-markers/2.0.2/leaflet.awesome-markers.css&quot;/&gt;\n",
       "    &lt;link rel=&quot;stylesheet&quot; href=&quot;https://cdn.jsdelivr.net/gh/python-visualization/folium/folium/templates/leaflet.awesome.rotate.min.css&quot;/&gt;\n",
       "    \n",
       "            &lt;meta name=&quot;viewport&quot; content=&quot;width=device-width,\n",
       "                initial-scale=1.0, maximum-scale=1.0, user-scalable=no&quot; /&gt;\n",
       "            &lt;style&gt;\n",
       "                #map_ddcf6352838f1c6389400338d5ef92b9 {\n",
       "                    position: relative;\n",
       "                    width: 100.0%;\n",
       "                    height: 100.0%;\n",
       "                    left: 0.0%;\n",
       "                    top: 0.0%;\n",
       "                }\n",
       "                .leaflet-container { font-size: 1rem; }\n",
       "            &lt;/style&gt;\n",
       "        \n",
       "&lt;/head&gt;\n",
       "&lt;body&gt;\n",
       "    \n",
       "    \n",
       "            &lt;div class=&quot;folium-map&quot; id=&quot;map_ddcf6352838f1c6389400338d5ef92b9&quot; &gt;&lt;/div&gt;\n",
       "        \n",
       "&lt;/body&gt;\n",
       "&lt;script&gt;\n",
       "    \n",
       "    \n",
       "            var map_ddcf6352838f1c6389400338d5ef92b9 = L.map(\n",
       "                &quot;map_ddcf6352838f1c6389400338d5ef92b9&quot;,\n",
       "                {\n",
       "                    center: [0.0, 0.0],\n",
       "                    crs: L.CRS.EPSG3857,\n",
       "                    zoom: 1,\n",
       "                    zoomControl: true,\n",
       "                    preferCanvas: false,\n",
       "                }\n",
       "            );\n",
       "\n",
       "            \n",
       "\n",
       "        \n",
       "    \n",
       "            var tile_layer_26e9f82882337ecc5a6c32b8c5bcfdfe = L.tileLayer(\n",
       "                &quot;https://tile.openstreetmap.org/{z}/{x}/{y}.png&quot;,\n",
       "                {&quot;attribution&quot;: &quot;\\u0026copy; \\u003ca href=\\&quot;https://www.openstreetmap.org/copyright\\&quot;\\u003eOpenStreetMap\\u003c/a\\u003e contributors&quot;, &quot;detectRetina&quot;: false, &quot;maxNativeZoom&quot;: 19, &quot;maxZoom&quot;: 19, &quot;minZoom&quot;: 0, &quot;noWrap&quot;: false, &quot;opacity&quot;: 1, &quot;subdomains&quot;: &quot;abc&quot;, &quot;tms&quot;: false}\n",
       "            );\n",
       "        \n",
       "    \n",
       "            tile_layer_26e9f82882337ecc5a6c32b8c5bcfdfe.addTo(map_ddcf6352838f1c6389400338d5ef92b9);\n",
       "        \n",
       "    \n",
       "            var marker_ebc0cfbf6a6acf1472aca92e2c1291ce = L.marker(\n",
       "                [-12.42968757961072, 7.391532731619028],\n",
       "                {}\n",
       "            ).addTo(map_ddcf6352838f1c6389400338d5ef92b9);\n",
       "        \n",
       "&lt;/script&gt;\n",
       "&lt;/html&gt;\" style=\"position:absolute;width:100%;height:100%;left:0;top:0;border:none !important;\" allowfullscreen webkitallowfullscreen mozallowfullscreen></iframe></div></div>"
      ],
      "text/plain": [
       "<folium.folium.Map at 0x1af28a17550>"
      ]
     },
     "execution_count": 3,
     "metadata": {},
     "output_type": "execute_result"
    }
   ],
   "source": [
    "import folium\n",
    "\n",
    "map = folium.Map()\n",
    "folium.Marker([predict[0], predict[1]]).add_to(map)\n",
    "map"
   ]
  },
  {
   "cell_type": "code",
   "execution_count": null,
   "id": "bbb1d549",
   "metadata": {},
   "outputs": [],
   "source": []
  }
 ],
 "metadata": {
  "kernelspec": {
   "display_name": "Python 3 (ipykernel)",
   "language": "python",
   "name": "python3"
  },
  "language_info": {
   "codemirror_mode": {
    "name": "ipython",
    "version": 3
   },
   "file_extension": ".py",
   "mimetype": "text/x-python",
   "name": "python",
   "nbconvert_exporter": "python",
   "pygments_lexer": "ipython3",
   "version": "3.11.5"
  }
 },
 "nbformat": 4,
 "nbformat_minor": 5
}
