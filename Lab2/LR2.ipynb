{
 "cells": [
  {
   "cell_type": "code",
   "execution_count": 22,
   "id": "0eb8ae6e",
   "metadata": {
    "scrolled": true
   },
   "outputs": [
    {
     "data": {
      "text/plain": [
       "\"\\n\\nnet = Network([2, 3, 1]) # создаем нейронную сеть из трех слоев\\n\\nprint('Сеть net:')\\nprint('Количетво слоев:', net.num_layers)\\nfor i in range(net.num_layers):\\n    print('Количество нейронов в слое', i,':',net.sizes[i])\\nfor i in range(net.num_layers-1):\\n    print('W_',i+1,':')\\n    print(np.round(net.weights[i],2))\\n    print('b_',i+1,':')\\n    print(np.round(net.biases[i],2))\\n    \\n\""
      ]
     },
     "execution_count": 22,
     "metadata": {},
     "output_type": "execute_result"
    }
   ],
   "source": [
    "\"\"\"\"\"\"\"\"\"\"\"\"\"\"\"\"\"\"\"\"\"\"\"\"\"\"\"\"\"\"\"\"\"\"\"\"\"\"\"\n",
    "Модуль создания и обучения нейронной сети для распознавания рукописных цифр с использованием метода градиентного спуска.\n",
    "Группа: АСУб-20-1\n",
    "ФИО: Устюжанин Вадим Максимович\n",
    "\"\"\"\"\"\"\"\"\"\"\"\"\"\"\"\"\"\"\"\"\"\"\"\"\"\"\"\"\"\"\"\"\"\"\"\"\"\"\"\n",
    "#### Библиотеки\n",
    "import random # библиотека функций для генерации случайных значений\n",
    "import numpy as np # библиотека функций для работы с матрицами\n",
    "\n",
    "\"\"\" ---Раздел описаний--- \"\"\"\n",
    "\"\"\" --Описание класса Network--\"\"\"\n",
    "class Network(object): # используется для описания нейронной сети\n",
    "    def __init__(self, sizes): # конструктор класса, self – указатель на объект класса, sizes – список размеров слоев нейронной сети\n",
    "        self.num_layers = len(sizes) # задаем количество слоев нейронной сети\n",
    "        self.sizes = sizes # задаем список размеров слоев нейронной сети\n",
    "        self.biases = [np.random.randn(y, 1) for y in sizes[1:]] # задаем случайные начальные смещения\n",
    "        self.weights = [np.random.randn(y, x) for x, y in zip(sizes[:-1], sizes[1:])] # задаем случайные начальные веса связей\n",
    "            \n",
    "    def feedforward(self, a):\n",
    "        for b, w in zip(self.biases, self.weights):\n",
    "            a = sigmoid(np.dot(w, a)+b)\n",
    "        return a\n",
    "    \n",
    "    def SGD( # Стохастический градиентный спуск\n",
    "              self # указатель на объект класса\n",
    "            , training_data # обучающая выборка\n",
    "            , epochs # количество эпох обучения\n",
    "            , mini_batch_size # размер подвыборки\n",
    "            , eta # скорость обучения\n",
    "            , test_data # тестирующая выборка\n",
    "            ):\n",
    "        test_data = list(test_data) # создаем список объектов тестирующей выборки\n",
    "        n_test = len(test_data) # вычисляем длину тестирующей выборки\n",
    "        training_data = list(training_data) # создаем список объектов обучающей выборки\n",
    "        n = len(training_data) # вычисляем размер обучающей выборки\n",
    "        for j in range(epochs): # цикл по эпохам\n",
    "            random.shuffle(training_data) # перемешиваем элементы обучающей выборки\n",
    "            mini_batches = [training_data[k:k+mini_batch_size] for k in range(0, n, mini_batch_size)] # создаем подвыборки\n",
    "            for mini_batch in mini_batches: # цикл по подвыборкам\n",
    "                self.update_mini_batch(mini_batch, eta) # один шаг градиентного спуска\n",
    "            print (\"Epoch {0}: {1} / {2}\".format(j, self.evaluate(test_data), n_test)) # смотрим прогресс в обучении    \n",
    "            with open('biases.pkl', 'wb') as f:\n",
    "                pickle.dump(self.biases, f)\n",
    "            with open('weights.pkl', 'wb') as f:\n",
    "                pickle.dump(self.weights, f)\n",
    "            \n",
    "    def update_mini_batch( # Шаг градиентного спуска\n",
    "                          self # указатель на объект класса\n",
    "                        , mini_batch # подвыборка\n",
    "                        , eta # скорость обучения\n",
    "                        ):\n",
    "        nabla_b = [np.zeros(b.shape) for b in self.biases] # список градиентов dC/db для каждого слоя (первоначально заполняются нулями)\n",
    "        nabla_w = [np.zeros(w.shape) for w in self.weights] # список градиентов dC/dw для каждого слоя (первоначально заполняются нулями)\n",
    "        for x, y in mini_batch:\n",
    "            delta_nabla_b, delta_nabla_w = self.backprop(x, y) # послойно вычисляем градиенты dC/db и dC/dw для текущего прецедента (x, y)\n",
    "            nabla_b = [nb+dnb for nb, dnb in zip(nabla_b, delta_nabla_b)] # суммируем градиенты dC/db для различных прецедентов текущей подвыборки\n",
    "            nabla_w = [nw+dnw for nw, dnw in zip(nabla_w, delta_nabla_w)] # суммируем градиенты dC/dw для различных прецедентов текущей подвыборки\n",
    "        self.weights = [w-(eta/len(mini_batch))*nw for w, nw in zip(self.weights, nabla_w)] # обновляем все веса w нейронной сети\n",
    "        self.biases = [b-(eta/len(mini_batch))*nb for b, nb in zip(self.biases, nabla_b)] # обновляем все смещения b нейронной сети\n",
    "        \n",
    "    def backprop( # Алгоритм обратного распространения\n",
    "                  self # указатель на объект класса\n",
    "                , x # вектор входных сигналов\n",
    "                , y # ожидаемый вектор выходных сигналов\n",
    "                ):\n",
    "        nabla_b = [np.zeros(b.shape) for b in self.biases] # список градиентов dC/db для каждого слоя (первоначально заполняются нулями)\n",
    "        nabla_w = [np.zeros(w.shape) for w in self.weights] # список градиентов dC/dw для каждого слоя (первоначально заполняются нулями)\n",
    "\n",
    "        # определение переменных\n",
    "        activation = x # выходные сигналы слоя (первоначально соответствует выходным сигналам 1-го слоя или входным сигналам сети)\n",
    "        activations = [x] # список выходных сигналов по всем слоям (первоначально содержит только выходные сигналы 1-го слоя)\n",
    "        zs = [] # список активационных потенциалов по всем слоям (первоначально пуст)\n",
    "\n",
    "        # прямое распространение\n",
    "        for b, w in zip(self.biases, self.weights):\n",
    "            z = np.dot(w, activation)+b # считаем активационные потенциалы текущего слоя\n",
    "            zs.append(z) # добавляем элемент (активационные потенциалы слоя) в конец списка\n",
    "            activation = sigmoid(z) # считаем выходные сигналы текущего слоя, применяя сигмоидальную функцию активации к активационным потенциалам слоя\n",
    "            activations.append(activation) # добавляем элемент (выходные сигналы слоя) в конец списка\n",
    "\n",
    "        # обратное распространение\n",
    "        delta = self.cost_derivative(activations[-1], y) * sigmoid_prime(zs[-1]) # считаем меру влияния нейронов выходного слоя L на величину ошибки (BP1)\n",
    "        nabla_b[-1] = delta # градиент dC/db для слоя L (BP3)\n",
    "        nabla_w[-1] = np.dot(delta, activations[-2].transpose()) # градиент dC/dw для слоя L (BP4)\n",
    "        for l in range(2, self.num_layers):\n",
    "            z = zs[-l] # активационные потенциалы l-го слоя (двигаемся \"Положение EcoRobotics.docx\"списку справа налево)\n",
    "            sp = sigmoid_prime(z) # считаем сигмоидальную функцию от активационных потенциалов l-го слоя\n",
    "            delta = np.dot(self.weights[-l+1].transpose(), delta) * sp # считаем меру влияния нейронов l-го слоя на величину ошибки (BP2)\n",
    "            nabla_b[-l] = delta # градиент dC/db для l-го слоя (BP3)\n",
    "            nabla_w[-l] = np.dot(delta, activations[-l-1].transpose())# градиент dC/dw для l-го слоя (BP4)\n",
    "        return (nabla_b, nabla_w)\n",
    "    \n",
    "    def evaluate(self, test_data): # Оценка прогресса в обучении\n",
    "        test_results = [(np.argmax(self.feedforward(x)), y) for (x, y) in test_data]\n",
    "        return sum(int(x == y) for (x, y) in test_results)\n",
    "    \n",
    "    def cost_derivative(self, output_activations, y): # Вычисление частных производных стоимостной функции по выходным сигналам последнего слоя\n",
    "        return (output_activations-y)\n",
    "    \n",
    "        \"\"\" --Конец описания класса Network--\"\"\"\n",
    "\"\"\" --- Конец раздела описаний--- \"\"\"\n",
    "\n",
    "\"\"\" ---Тело программы--- \"\"\"\n",
    "net = Network([2, 3, 1]) # создаем нейронную сеть из трех слоев\n",
    "\"\"\" ---Конец тела программы--- \"\"\"\n",
    "\"\"\" Вывод результата на экран: \"\"\"\n",
    "print('Сеть net:')\n",
    "print('Количетво слоев:', net.num_layers)\n",
    "for i in range(net.num_layers):\n",
    "    print('Количество нейронов в слое', i,':',net.sizes[i])\n",
    "for i in range(net.num_layers-1):\n",
    "    print('W_',i+1,':')\n",
    "    print(np.round(net.weights[i],2))\n",
    "    print('b_',i+1,':')\n",
    "    print(np.round(net.biases[i],2))"
   ]
  },
  {
   "cell_type": "code",
   "execution_count": 23,
   "id": "7a8627db",
   "metadata": {},
   "outputs": [],
   "source": [
    "def sigmoid(z): # определение сигмоидальной функции активации\n",
    "        return 1.0/(1.0+np.exp(-z))\n",
    "    \n",
    "def sigmoid_prime(z):# Производная сигмоидальной функции\n",
    "        return sigmoid(z)*(1-sigmoid(z))"
   ]
  },
  {
   "cell_type": "code",
   "execution_count": 24,
   "id": "1f47e6fc",
   "metadata": {
    "scrolled": true
   },
   "outputs": [
    {
     "name": "stdout",
     "output_type": "stream",
     "text": [
      "Epoch 0: 9004 / 10000\n",
      "Epoch 1: 9197 / 10000\n",
      "Epoch 2: 9249 / 10000\n",
      "Epoch 3: 9304 / 10000\n",
      "Epoch 4: 9335 / 10000\n",
      "Epoch 5: 9313 / 10000\n",
      "Epoch 6: 9394 / 10000\n",
      "Epoch 7: 9427 / 10000\n",
      "Epoch 8: 9396 / 10000\n",
      "Epoch 9: 9445 / 10000\n",
      "Epoch 10: 9429 / 10000\n",
      "Epoch 11: 9420 / 10000\n",
      "Epoch 12: 9460 / 10000\n",
      "Epoch 13: 9453 / 10000\n",
      "Epoch 14: 9445 / 10000\n",
      "Epoch 15: 9463 / 10000\n",
      "Epoch 16: 9457 / 10000\n",
      "Epoch 17: 9448 / 10000\n",
      "Epoch 18: 9464 / 10000\n",
      "Epoch 19: 9482 / 10000\n",
      "Epoch 20: 9434 / 10000\n",
      "Epoch 21: 9450 / 10000\n",
      "Epoch 22: 9473 / 10000\n",
      "Epoch 23: 9475 / 10000\n",
      "Epoch 24: 9482 / 10000\n",
      "Epoch 25: 9470 / 10000\n",
      "Epoch 26: 9467 / 10000\n",
      "Epoch 27: 9482 / 10000\n",
      "Epoch 28: 9501 / 10000\n",
      "Epoch 29: 9478 / 10000\n"
     ]
    }
   ],
   "source": [
    "import gzip # библиотека для сжатия и распаковки файлов gzip и gunzip.\n",
    "import pickle # библиотека для сохранения и загрузки сложных объектов Python.\n",
    "import numpy as np # библиотека для работы с матрицами\n",
    "\n",
    "def load_data():\n",
    "    f = gzip.open('mnist.pkl.gz', 'rb') # открываем сжатый файл gzip в двоичном режиме\n",
    "    training_data, validation_data, test_data = pickle.load(f, encoding='latin1') # загружам таблицы из файла\n",
    "    f.close() # закрываем файл\n",
    "    return (training_data, validation_data, test_data)\n",
    "\n",
    "def load_data_wrapper():\n",
    "    tr_d, va_d, te_d = load_data() # инициализация наборов данных в формате MNIST\n",
    "    training_inputs = [np.reshape(x, (784, 1)) for x in tr_d[0]] # преобразование массивов размера 1 на 784 к массивам размера 784 на 1\n",
    "    training_results = [vectorized_result(y) for y in tr_d[1]] # представление цифр от 0 до 9 в виде массивов размера 10 на 1\n",
    "    training_data = zip(training_inputs, training_results) # формируем набор обучающих данных из пар (x, y)\n",
    "    validation_inputs = [np.reshape(x, (784, 1)) for x in va_d[0]] # преобразование массивов размера 1 на 784 к массивам размера 784 на 1\n",
    "    validation_data = zip(validation_inputs, va_d[1]) # формируем набор данных проверки из пар (x, y)\n",
    "    test_inputs = [np.reshape(x, (784, 1)) for x in te_d[0]] # преобразование массивов размера 1 на 784 к массивам размера 784 на 1\n",
    "    test_data = zip(test_inputs, te_d[1]) # формируем набор тестовых данных из пар (x, y)\n",
    "    return (training_data, validation_data, test_data)\n",
    "\n",
    "def vectorized_result(j):\n",
    "    e = np.zeros((10, 1))\n",
    "    e[j] = 1\n",
    "    return e\n",
    "\n",
    "training_data, validation_data,test_data = load_data_wrapper()\n",
    "\n",
    "net = Network([784, 30, 10])\n",
    "net.SGD(training_data, 30, 10, 3.0, test_data=test_data)"
   ]
  },
  {
   "cell_type": "code",
   "execution_count": 25,
   "id": "a8360c2f",
   "metadata": {},
   "outputs": [],
   "source": [
    "import numpy as np # библиотека функций для работы с матрицами\n",
    "import pickle\n",
    "\n",
    "def sigmoid(z): # определение сигмоидальной функции активации\n",
    "    return 1.0/(1.0+np.exp(-z))\n",
    "\n",
    "class Network(object): # используется для описания нейронной сети\n",
    "    def feedforward(self, a):\n",
    "        for b, w in zip(self.biases, self.weights):\n",
    "            a = sigmoid(np.dot(w, a)+b)\n",
    "        return a\n",
    "\n",
    "    def __init__(self, sizes): # конструктор класса\n",
    "    # self – указатель на объект класса\n",
    "    # sizes – список размеров слоев нейронной сети\n",
    "        self.num_layers = len(sizes) # задаем количество слоев нейронной сети\n",
    "        self.sizes = sizes # задаем список размеров слоев нейронной сети\n",
    "\n",
    "        with open('biases.pkl', 'rb') as f: #открытие файла со смещениями\n",
    "            self.biases = pickle.load(f)\n",
    "        with open('weights.pkl', 'rb') as f: #открытие файла с весами\n",
    "            self.weights = pickle.load(f)"
   ]
  },
  {
   "cell_type": "markdown",
   "id": "c02790ad",
   "metadata": {},
   "source": [
    "# Нули"
   ]
  },
  {
   "cell_type": "markdown",
   "id": "f5db1ff8",
   "metadata": {},
   "source": [
    "## Тонкий"
   ]
  },
  {
   "cell_type": "code",
   "execution_count": 52,
   "id": "764b2db0",
   "metadata": {
    "scrolled": false
   },
   "outputs": [
    {
     "name": "stdout",
     "output_type": "stream",
     "text": [
      "[[3.42398016e-01]\n",
      " [9.18732567e-07]\n",
      " [9.86720024e-01]\n",
      " [6.30637714e-06]\n",
      " [3.18871087e-08]\n",
      " [2.08350902e-02]\n",
      " [6.65059363e-02]\n",
      " [7.92588098e-08]\n",
      " [4.46104323e-07]\n",
      " [1.18813544e-10]]\n"
     ]
    },
    {
     "data": {
      "image/png": "[encoded data removed]",
      "text/plain": [
       "<PIL.BmpImagePlugin.BmpImageFile image mode=P size=28x28>"
      ]
     },
     "execution_count": 52,
     "metadata": {},
     "output_type": "execute_result"
    }
   ],
   "source": [
    "from PIL import Image\n",
    "import numpy\n",
    "\n",
    "im=Image.open(\"0s.bmp\") #открытие рисунка с тонким нулем\n",
    "testArray=numpy.ndarray(shape=(784, 1), dtype=float, order='F') #создание контейнера для копирования значения пикселей изображения\n",
    "\n",
    "#операция копирования в контейнер пикселей изображения\n",
    "for i2 in range(28):\n",
    "    for i1 in range(28):\n",
    "        if (im.getpixel((i1, i2))) / 255 > 0:\n",
    "            #вынужден был применять костыль, т.к. 1 в значении пикселей нейросеть неадекватно воспринимает\n",
    "            testArray[i1 + i2 * 28, 0] = (im.getpixel((i1, i2))) / 255 - 0.001\n",
    "        else:\n",
    "            testArray[i1 + i2 * 28,0] = (im.getpixel((i1, i2))) / 255\n",
    "\n",
    "for i in range (0,4):\n",
    "    netSm = Network([784, 30, 10]) #создаем нейросеть с обученными весами и смещениями\n",
    "    print(netSm.feedforward(testArray)) #распознаем изображение с помощью нейросети\n",
    "    im"
   ]
  },
  {
   "cell_type": "markdown",
   "id": "dd58056b",
   "metadata": {},
   "source": [
    "Не распознала 0. Распознала 3 - 98%"
   ]
  },
  {
   "cell_type": "markdown",
   "id": "bcdc010c",
   "metadata": {},
   "source": [
    "## Средний"
   ]
  },
  {
   "cell_type": "code",
   "execution_count": 53,
   "id": "8a76b300",
   "metadata": {
    "scrolled": true
   },
   "outputs": [
    {
     "name": "stdout",
     "output_type": "stream",
     "text": [
      "[[2.70698525e-03]\n",
      " [8.44759039e-10]\n",
      " [3.22779840e-01]\n",
      " [3.22676303e-09]\n",
      " [2.51838621e-01]\n",
      " [8.25522478e-11]\n",
      " [3.75776483e-01]\n",
      " [4.95579351e-11]\n",
      " [1.42268050e-05]\n",
      " [5.36934419e-07]]\n"
     ]
    },
    {
     "data": {
      "image/png": "[encoded data removed]",
      "text/plain": [
       "<PIL.BmpImagePlugin.BmpImageFile image mode=P size=28x28>"
      ]
     },
     "execution_count": 53,
     "metadata": {},
     "output_type": "execute_result"
    }
   ],
   "source": [
    "from PIL import Image\n",
    "import numpy\n",
    "\n",
    "im=Image.open(\"0m.bmp\") #открытие рисунка с с средним нулем\n",
    "testArray=numpy.ndarray(shape=(784, 1), dtype=float, order='F') #создание контейнера для копирования значения пикселей изображения\n",
    "\n",
    "#операция копирования в контейнер пикселей изображения\n",
    "for i2 in range(28):\n",
    "    for i1 in range(28):\n",
    "        if (im.getpixel((i1, i2))) / 255 > 0:\n",
    "            #вынужден был применять костыль, т.к. 1 в значении пикселей нейросеть неадекватно воспринимает\n",
    "            testArray[i1 + i2 * 28, 0] = (im.getpixel((i1, i2))) / 255 - 0.001\n",
    "        else:\n",
    "            testArray[i1 + i2 * 28,0] = (im.getpixel((i1, i2))) / 255\n",
    "\n",
    "netSm = Network([784, 30, 10]) #создаем нейросеть с обученными весами и смещениями\n",
    "print(netSm.feedforward(testArray)) #распознаем изображение с помощью нейросети\n",
    "im"
   ]
  },
  {
   "cell_type": "markdown",
   "id": "3a479834",
   "metadata": {},
   "source": [
    "Не распознала 0. Распознал 2 и 6 с примерно 30%"
   ]
  },
  {
   "cell_type": "markdown",
   "id": "e830b19a",
   "metadata": {},
   "source": [
    "## Толстый"
   ]
  },
  {
   "cell_type": "code",
   "execution_count": 54,
   "id": "e637e0bb",
   "metadata": {},
   "outputs": [
    {
     "name": "stdout",
     "output_type": "stream",
     "text": [
      "[[1.92865864e-02]\n",
      " [1.80565485e-09]\n",
      " [3.31951664e-07]\n",
      " [8.80132368e-10]\n",
      " [8.18141183e-07]\n",
      " [1.15127048e-08]\n",
      " [8.06977120e-03]\n",
      " [4.24905331e-08]\n",
      " [2.00269104e-09]\n",
      " [1.55394435e-05]]\n"
     ]
    },
    {
     "data": {
      "image/png": "[encoded data removed]",
      "text/plain": [
       "<PIL.BmpImagePlugin.BmpImageFile image mode=P size=28x28>"
      ]
     },
     "execution_count": 54,
     "metadata": {},
     "output_type": "execute_result"
    }
   ],
   "source": [
    "from PIL import Image\n",
    "import numpy\n",
    "\n",
    "im=Image.open(\"0l.bmp\") #открытие рисунка с с толстым нулем\n",
    "testArray=numpy.ndarray(shape=(784, 1), dtype=float, order='F') #создание контейнера для копирования значения пикселей изображения\n",
    "\n",
    "#операция копирования в контейнер пикселей изображения\n",
    "for i2 in range(28):\n",
    "    for i1 in range(28):\n",
    "        if (im.getpixel((i1, i2))) / 255 > 0:\n",
    "            #вынужден был применять костыль, т.к. 1 в значении пикселей нейросеть неадекватно воспринимает\n",
    "            testArray[i1 + i2 * 28, 0] = (im.getpixel((i1, i2))) / 255 - 0.001\n",
    "        else:\n",
    "            testArray[i1 + i2 * 28,0] = (im.getpixel((i1, i2))) / 255\n",
    "\n",
    "netSm = Network([784, 30, 10]) #создаем нейросеть с обученными весами и смещениями\n",
    "print(netSm.feedforward(testArray)) #распознаем изображение с помощью нейросети\n",
    "im"
   ]
  },
  {
   "cell_type": "markdown",
   "id": "2ee7a1fe",
   "metadata": {},
   "source": [
    "Распознала 0 - 19% "
   ]
  },
  {
   "cell_type": "markdown",
   "id": "6874982a",
   "metadata": {},
   "source": [
    "# Двойки"
   ]
  },
  {
   "cell_type": "markdown",
   "id": "e6ce8e1f",
   "metadata": {},
   "source": [
    "## Тонкая"
   ]
  },
  {
   "cell_type": "code",
   "execution_count": 55,
   "id": "18dbc41f",
   "metadata": {},
   "outputs": [
    {
     "name": "stdout",
     "output_type": "stream",
     "text": [
      "[[4.08747335e-06]\n",
      " [2.65815851e-03]\n",
      " [9.94159268e-01]\n",
      " [3.48741582e-08]\n",
      " [1.52385032e-14]\n",
      " [1.27221246e-01]\n",
      " [1.30109797e-06]\n",
      " [1.81218047e-07]\n",
      " [9.19135014e-08]\n",
      " [1.63078656e-13]]\n"
     ]
    },
    {
     "data": {
      "image/png": "[encoded data removed]",
      "text/plain": [
       "<PIL.BmpImagePlugin.BmpImageFile image mode=P size=28x28>"
      ]
     },
     "execution_count": 55,
     "metadata": {},
     "output_type": "execute_result"
    }
   ],
   "source": [
    "from PIL import Image\n",
    "import numpy\n",
    "\n",
    "im=Image.open(\"2s.bmp\") #открытие рисунка с тонкой 2-кой\n",
    "testArray=numpy.ndarray(shape=(784, 1), dtype=float, order='F') #создание контейнера для копирования значения пикселей изображения\n",
    "\n",
    "#операция копирования в контейнер пикселей изображения\n",
    "for i2 in range(28):\n",
    "    for i1 in range(28):\n",
    "        if (im.getpixel((i1, i2))) / 255 > 0:\n",
    "            #вынужден был применять костыль, т.к. 1 в значении пикселей нейросеть неадекватно воспринимает\n",
    "            testArray[i1 + i2 * 28, 0] = (im.getpixel((i1, i2))) / 255 - 0.001\n",
    "        else:\n",
    "            testArray[i1 + i2 * 28,0] = (im.getpixel((i1, i2))) / 255\n",
    "\n",
    "netSm = Network([784, 30, 10]) #создаем нейросеть с обученными весами и смещениями\n",
    "print(netSm.feedforward(testArray)) #распознаем изображение с помощью нейросети\n",
    "im"
   ]
  },
  {
   "cell_type": "markdown",
   "id": "6dbe968e",
   "metadata": {},
   "source": [
    "Распознала 2 - 99%"
   ]
  },
  {
   "cell_type": "markdown",
   "id": "81a2c22e",
   "metadata": {},
   "source": [
    "## Средняя"
   ]
  },
  {
   "cell_type": "code",
   "execution_count": 56,
   "id": "28b20bee",
   "metadata": {},
   "outputs": [
    {
     "name": "stdout",
     "output_type": "stream",
     "text": [
      "[[8.36691824e-07]\n",
      " [4.81159163e-04]\n",
      " [9.98686996e-01]\n",
      " [1.25676941e-02]\n",
      " [8.07278883e-10]\n",
      " [2.19674386e-09]\n",
      " [2.50429057e-07]\n",
      " [4.86323573e-10]\n",
      " [6.26440840e-07]\n",
      " [1.94999826e-11]]\n"
     ]
    },
    {
     "data": {
      "image/png": "[encoded data removed]",
      "text/plain": [
       "<PIL.BmpImagePlugin.BmpImageFile image mode=P size=28x28>"
      ]
     },
     "execution_count": 56,
     "metadata": {},
     "output_type": "execute_result"
    }
   ],
   "source": [
    "from PIL import Image\n",
    "import numpy\n",
    "\n",
    "im=Image.open(\"2m.bmp\") #открытие рисунка с средней 2-кой\n",
    "testArray=numpy.ndarray(shape=(784, 1), dtype=float, order='F') #создание контейнера для копирования значения пикселей изображения\n",
    "\n",
    "#операция копирования в контейнер пикселей изображения\n",
    "for i2 in range(28):\n",
    "    for i1 in range(28):\n",
    "        if (im.getpixel((i1, i2))) / 255 > 0:\n",
    "            #вынужден был применять костыль, т.к. 1 в значении пикселей нейросеть неадекватно воспринимает\n",
    "            testArray[i1 + i2 * 28, 0] = (im.getpixel((i1, i2))) / 255 - 0.001\n",
    "        else:\n",
    "            testArray[i1 + i2 * 28,0] = (im.getpixel((i1, i2))) / 255\n",
    "\n",
    "netSm = Network([784, 30, 10]) #создаем нейросеть с обученными весами и смещениями\n",
    "print(netSm.feedforward(testArray)) #распознаем изображение с помощью нейросети\n",
    "im"
   ]
  },
  {
   "cell_type": "markdown",
   "id": "edabd995",
   "metadata": {},
   "source": [
    "Распознала 2 - 99%"
   ]
  },
  {
   "cell_type": "markdown",
   "id": "8d5681a4",
   "metadata": {},
   "source": [
    "## Толстая"
   ]
  },
  {
   "cell_type": "code",
   "execution_count": 57,
   "id": "921c6c61",
   "metadata": {},
   "outputs": [
    {
     "name": "stdout",
     "output_type": "stream",
     "text": [
      "[[3.31494233e-05]\n",
      " [5.82890429e-06]\n",
      " [9.99667179e-01]\n",
      " [1.82357211e-04]\n",
      " [1.03554798e-11]\n",
      " [4.01920457e-09]\n",
      " [2.16711989e-11]\n",
      " [8.59579845e-05]\n",
      " [6.75761669e-07]\n",
      " [1.83029526e-13]]\n"
     ]
    },
    {
     "data": {
      "image/png": "[encoded data removed]",
      "text/plain": [
       "<PIL.BmpImagePlugin.BmpImageFile image mode=P size=28x28>"
      ]
     },
     "execution_count": 57,
     "metadata": {},
     "output_type": "execute_result"
    }
   ],
   "source": [
    "from PIL import Image\n",
    "import numpy\n",
    "\n",
    "im=Image.open(\"2l.bmp\") #открытие рисунка с толстой 2-кой\n",
    "testArray=numpy.ndarray(shape=(784, 1), dtype=float, order='F') #создание контейнера для копирования значения пикселей изображения\n",
    "\n",
    "#операция копирования в контейнер пикселей изображения\n",
    "for i2 in range(28):\n",
    "    for i1 in range(28):\n",
    "        if (im.getpixel((i1, i2))) / 255 > 0:\n",
    "            #вынужден был применять костыль, т.к. 1 в значении пикселей нейросеть неадекватно воспринимает\n",
    "            testArray[i1 + i2 * 28, 0] = (im.getpixel((i1, i2))) / 255 - 0.001\n",
    "        else:\n",
    "            testArray[i1 + i2 * 28,0] = (im.getpixel((i1, i2))) / 255\n",
    "\n",
    "netSm = Network([784, 30, 10]) #создаем нейросеть с обученными весами и смещениями\n",
    "print(netSm.feedforward(testArray)) #распознаем изображение с помощью нейросети\n",
    "im"
   ]
  },
  {
   "cell_type": "markdown",
   "id": "630192ef",
   "metadata": {},
   "source": [
    "Распознала 2 - 99%"
   ]
  },
  {
   "cell_type": "markdown",
   "id": "4bd815d1",
   "metadata": {},
   "source": [
    "# Четверки"
   ]
  },
  {
   "cell_type": "markdown",
   "id": "59153fa2",
   "metadata": {},
   "source": [
    "## Тонкая"
   ]
  },
  {
   "cell_type": "code",
   "execution_count": 58,
   "id": "eb54a2b1",
   "metadata": {},
   "outputs": [
    {
     "name": "stdout",
     "output_type": "stream",
     "text": [
      "[[5.00586466e-04]\n",
      " [1.80014984e-06]\n",
      " [1.01713906e-08]\n",
      " [2.69061629e-03]\n",
      " [9.99576517e-01]\n",
      " [1.75194269e-13]\n",
      " [1.07925488e-03]\n",
      " [1.69268982e-02]\n",
      " [1.52141705e-08]\n",
      " [9.35719419e-04]]\n"
     ]
    },
    {
     "data": {
      "image/png": "[encoded data removed]",
      "text/plain": [
       "<PIL.BmpImagePlugin.BmpImageFile image mode=P size=28x28>"
      ]
     },
     "execution_count": 58,
     "metadata": {},
     "output_type": "execute_result"
    }
   ],
   "source": [
    "from PIL import Image\n",
    "import numpy\n",
    "\n",
    "im=Image.open(\"4s.bmp\") #открытие рисунка с тонкой 4-кой\n",
    "testArray=numpy.ndarray(shape=(784, 1), dtype=float, order='F') #создание контейнера для копирования значения пикселей изображения\n",
    "\n",
    "#операция копирования в контейнер пикселей изображения\n",
    "for i2 in range(28):\n",
    "    for i1 in range(28):\n",
    "        if (im.getpixel((i1, i2))) / 255 > 0:\n",
    "            #вынужден был применять костыль, т.к. 1 в значении пикселей нейросеть неадекватно воспринимает\n",
    "            testArray[i1 + i2 * 28, 0] = (im.getpixel((i1, i2))) / 255 - 0.001\n",
    "        else:\n",
    "            testArray[i1 + i2 * 28,0] = (im.getpixel((i1, i2))) / 255\n",
    "\n",
    "netSm = Network([784, 30, 10]) #создаем нейросеть с обученными весами и смещениями\n",
    "print(netSm.feedforward(testArray)) #распознаем изображение с помощью нейросети\n",
    "im"
   ]
  },
  {
   "cell_type": "markdown",
   "id": "5c9f6148",
   "metadata": {},
   "source": [
    "Распознала 4 - 99%"
   ]
  },
  {
   "cell_type": "markdown",
   "id": "e40c04b3",
   "metadata": {},
   "source": [
    "## Средняя"
   ]
  },
  {
   "cell_type": "code",
   "execution_count": 59,
   "id": "b2c5f757",
   "metadata": {},
   "outputs": [
    {
     "name": "stdout",
     "output_type": "stream",
     "text": [
      "[[1.75292169e-06]\n",
      " [1.17991194e-10]\n",
      " [1.99979823e-07]\n",
      " [3.36757605e-05]\n",
      " [9.99993168e-01]\n",
      " [2.92794195e-10]\n",
      " [4.19923401e-09]\n",
      " [4.09277499e-04]\n",
      " [1.89855490e-10]\n",
      " [2.14645844e-04]]\n"
     ]
    },
    {
     "data": {
      "image/png": "[encoded data removed]",
      "text/plain": [
       "<PIL.BmpImagePlugin.BmpImageFile image mode=P size=28x28>"
      ]
     },
     "execution_count": 59,
     "metadata": {},
     "output_type": "execute_result"
    }
   ],
   "source": [
    "from PIL import Image\n",
    "import numpy\n",
    "\n",
    "im=Image.open(\"4m.bmp\") #открытие рисунка с средней 4-кой\n",
    "testArray=numpy.ndarray(shape=(784, 1), dtype=float, order='F') #создание контейнера для копирования значения пикселей изображения\n",
    "\n",
    "#операция копирования в контейнер пикселей изображения\n",
    "for i2 in range(28):\n",
    "    for i1 in range(28):\n",
    "        if (im.getpixel((i1, i2))) / 255 > 0:\n",
    "            #вынужден был применять костыль, т.к. 1 в значении пикселей нейросеть неадекватно воспринимает\n",
    "            testArray[i1 + i2 * 28, 0] = (im.getpixel((i1, i2))) / 255 - 0.001\n",
    "        else:\n",
    "            testArray[i1 + i2 * 28,0] = (im.getpixel((i1, i2))) / 255\n",
    "\n",
    "netSm = Network([784, 30, 10]) #создаем нейросеть с обученными весами и смещениями\n",
    "print(netSm.feedforward(testArray)) #распознаем изображение с помощью нейросети\n",
    "im"
   ]
  },
  {
   "cell_type": "markdown",
   "id": "af6fa2ec",
   "metadata": {},
   "source": [
    "Распознала 4 - 99%"
   ]
  },
  {
   "cell_type": "markdown",
   "id": "a0a5f8c6",
   "metadata": {},
   "source": [
    "## Толстая"
   ]
  },
  {
   "cell_type": "code",
   "execution_count": 60,
   "id": "c7ac2335",
   "metadata": {},
   "outputs": [
    {
     "name": "stdout",
     "output_type": "stream",
     "text": [
      "[[2.60726217e-08]\n",
      " [3.84042812e-10]\n",
      " [4.55568475e-04]\n",
      " [3.72097082e-04]\n",
      " [9.99196341e-01]\n",
      " [4.01732614e-08]\n",
      " [1.16541648e-06]\n",
      " [5.62061268e-06]\n",
      " [5.53058548e-06]\n",
      " [7.45329465e-06]]\n"
     ]
    },
    {
     "data": {
      "image/png": "[encoded data removed]",
      "text/plain": [
       "<PIL.BmpImagePlugin.BmpImageFile image mode=P size=28x28>"
      ]
     },
     "execution_count": 60,
     "metadata": {},
     "output_type": "execute_result"
    }
   ],
   "source": [
    "from PIL import Image\n",
    "import numpy\n",
    "\n",
    "im=Image.open(\"4l.bmp\") #открытие рисунка с средней 4-кой\n",
    "testArray=numpy.ndarray(shape=(784, 1), dtype=float, order='F') #создание контейнера для копирования значения пикселей изображения\n",
    "\n",
    "#операция копирования в контейнер пикселей изображения\n",
    "for i2 in range(28):\n",
    "    for i1 in range(28):\n",
    "        if (im.getpixel((i1, i2))) / 255 > 0:\n",
    "            #вынужден был применять костыль, т.к. 1 в значении пикселей нейросеть неадекватно воспринимает\n",
    "            testArray[i1 + i2 * 28, 0] = (im.getpixel((i1, i2))) / 255 - 0.001\n",
    "        else:\n",
    "            testArray[i1 + i2 * 28,0] = (im.getpixel((i1, i2))) / 255\n",
    "\n",
    "netSm = Network([784, 30, 10]) #создаем нейросеть с обученными весами и смещениями\n",
    "print(netSm.feedforward(testArray)) #распознаем изображение с помощью нейросети\n",
    "im"
   ]
  },
  {
   "cell_type": "markdown",
   "id": "8731b4f7",
   "metadata": {},
   "source": [
    "Распознала 4 - 99%"
   ]
  },
  {
   "cell_type": "markdown",
   "id": "7205f0b0",
   "metadata": {},
   "source": [
    "# Шестерки"
   ]
  },
  {
   "cell_type": "markdown",
   "id": "79d15a7f",
   "metadata": {},
   "source": [
    "## Тонкая"
   ]
  },
  {
   "cell_type": "code",
   "execution_count": 61,
   "id": "60c24c74",
   "metadata": {},
   "outputs": [
    {
     "name": "stdout",
     "output_type": "stream",
     "text": [
      "[[3.41514287e-05]\n",
      " [2.73918892e-06]\n",
      " [2.62488216e-06]\n",
      " [6.31523939e-08]\n",
      " [1.03688832e-07]\n",
      " [2.40453541e-09]\n",
      " [9.98855982e-01]\n",
      " [1.75354184e-07]\n",
      " [1.02035637e-08]\n",
      " [1.77512325e-05]]\n"
     ]
    },
    {
     "data": {
      "image/png": "[encoded data removed]",
      "text/plain": [
       "<PIL.BmpImagePlugin.BmpImageFile image mode=P size=28x28>"
      ]
     },
     "execution_count": 61,
     "metadata": {},
     "output_type": "execute_result"
    }
   ],
   "source": [
    "from PIL import Image\n",
    "import numpy\n",
    "\n",
    "im=Image.open(\"6s.bmp\") #открытие рисунка с тонкой 6-кой\n",
    "testArray=numpy.ndarray(shape=(784, 1), dtype=float, order='F') #создание контейнера для копирования значения пикселей изображения\n",
    "\n",
    "#операция копирования в контейнер пикселей изображения\n",
    "for i2 in range(28):\n",
    "    for i1 in range(28):\n",
    "        if (im.getpixel((i1, i2))) / 255 > 0:\n",
    "            #вынужден был применять костыль, т.к. 1 в значении пикселей нейросеть неадекватно воспринимает\n",
    "            testArray[i1 + i2 * 28, 0] = (im.getpixel((i1, i2))) / 255 - 0.001\n",
    "        else:\n",
    "            testArray[i1 + i2 * 28,0] = (im.getpixel((i1, i2))) / 255\n",
    "\n",
    "netSm = Network([784, 30, 10]) #создаем нейросеть с обученными весами и смещениями\n",
    "print(netSm.feedforward(testArray)) #распознаем изображение с помощью нейросети\n",
    "im"
   ]
  },
  {
   "cell_type": "markdown",
   "id": "41ffecd5",
   "metadata": {},
   "source": [
    "Распознала 6 - 99%"
   ]
  },
  {
   "cell_type": "markdown",
   "id": "5bbd7e52",
   "metadata": {},
   "source": [
    "## Средняя"
   ]
  },
  {
   "cell_type": "code",
   "execution_count": 62,
   "id": "7139aabc",
   "metadata": {},
   "outputs": [
    {
     "name": "stdout",
     "output_type": "stream",
     "text": [
      "[[3.81944122e-04]\n",
      " [1.87932019e-08]\n",
      " [3.85449933e-04]\n",
      " [7.24964892e-08]\n",
      " [1.70327732e-08]\n",
      " [9.96375298e-01]\n",
      " [5.40741681e-05]\n",
      " [1.27431861e-08]\n",
      " [9.06828471e-03]\n",
      " [1.99192368e-14]]\n"
     ]
    },
    {
     "data": {
      "image/png": "[encoded data removed]",
      "text/plain": [
       "<PIL.BmpImagePlugin.BmpImageFile image mode=P size=28x28>"
      ]
     },
     "execution_count": 62,
     "metadata": {},
     "output_type": "execute_result"
    }
   ],
   "source": [
    "from PIL import Image\n",
    "import numpy\n",
    "\n",
    "im=Image.open(\"6m.bmp\") #открытие рисунка с средней 6-кой\n",
    "testArray=numpy.ndarray(shape=(784, 1), dtype=float, order='F') #создание контейнера для копирования значения пикселей изображения\n",
    "\n",
    "#операция копирования в контейнер пикселей изображения\n",
    "for i2 in range(28):\n",
    "    for i1 in range(28):\n",
    "        if (im.getpixel((i1, i2))) / 255 > 0:\n",
    "            #вынужден был применять костыль, т.к. 1 в значении пикселей нейросеть неадекватно воспринимает\n",
    "            testArray[i1 + i2 * 28, 0] = (im.getpixel((i1, i2))) / 255 - 0.001\n",
    "        else:\n",
    "            testArray[i1 + i2 * 28,0] = (im.getpixel((i1, i2))) / 255\n",
    "\n",
    "netSm = Network([784, 30, 10]) #создаем нейросеть с обученными весами и смещениями\n",
    "print(netSm.feedforward(testArray)) #распознаем изображение с помощью нейросети\n",
    "im"
   ]
  },
  {
   "cell_type": "markdown",
   "id": "2a1d9e0d",
   "metadata": {},
   "source": [
    "Распознала 6 - 99%"
   ]
  },
  {
   "cell_type": "markdown",
   "id": "196bc66f",
   "metadata": {},
   "source": [
    "## Толстая"
   ]
  },
  {
   "cell_type": "code",
   "execution_count": 63,
   "id": "866b1d4a",
   "metadata": {},
   "outputs": [
    {
     "name": "stdout",
     "output_type": "stream",
     "text": [
      "[[1.83316119e-02]\n",
      " [8.05333873e-10]\n",
      " [9.74622321e-01]\n",
      " [6.73371480e-04]\n",
      " [6.59657598e-07]\n",
      " [1.05732694e-03]\n",
      " [5.09937795e-03]\n",
      " [7.69886773e-16]\n",
      " [2.31614994e-05]\n",
      " [1.90185691e-08]]\n"
     ]
    },
    {
     "data": {
      "image/png": "[encoded data removed]",
      "text/plain": [
       "<PIL.BmpImagePlugin.BmpImageFile image mode=P size=28x28>"
      ]
     },
     "execution_count": 63,
     "metadata": {},
     "output_type": "execute_result"
    }
   ],
   "source": [
    "from PIL import Image\n",
    "import numpy\n",
    "\n",
    "im=Image.open(\"6l.bmp\") #открытие рисунка с толстой 6-кой\n",
    "testArray=numpy.ndarray(shape=(784, 1), dtype=float, order='F') #создание контейнера для копирования значения пикселей изображения\n",
    "\n",
    "#операция копирования в контейнер пикселей изображения\n",
    "for i2 in range(28):\n",
    "    for i1 in range(28):\n",
    "        if (im.getpixel((i1, i2))) / 255 > 0:\n",
    "            #вынужден был применять костыль, т.к. 1 в значении пикселей нейросеть неадекватно воспринимает\n",
    "            testArray[i1 + i2 * 28, 0] = (im.getpixel((i1, i2))) / 255 - 0.001\n",
    "        else:\n",
    "            testArray[i1 + i2 * 28,0] = (im.getpixel((i1, i2))) / 255\n",
    "\n",
    "netSm = Network([784, 30, 10]) #создаем нейросеть с обученными весами и смещениями\n",
    "print(netSm.feedforward(testArray)) #распознаем изображение с помощью нейросети\n",
    "im"
   ]
  },
  {
   "cell_type": "markdown",
   "id": "e1748936",
   "metadata": {},
   "source": [
    "Не распознала 6. Распознала 2 - 97%"
   ]
  },
  {
   "cell_type": "markdown",
   "id": "22c377ff",
   "metadata": {},
   "source": [
    "# Восьмерки"
   ]
  },
  {
   "cell_type": "markdown",
   "id": "ce06cb25",
   "metadata": {},
   "source": [
    "## Тонкая"
   ]
  },
  {
   "cell_type": "code",
   "execution_count": 64,
   "id": "8897707a",
   "metadata": {},
   "outputs": [
    {
     "name": "stdout",
     "output_type": "stream",
     "text": [
      "[[1.27747315e-03]\n",
      " [1.04517065e-04]\n",
      " [9.83215043e-01]\n",
      " [1.96231484e-01]\n",
      " [4.39710111e-05]\n",
      " [4.18198369e-04]\n",
      " [5.82248070e-04]\n",
      " [6.82811946e-09]\n",
      " [1.00384668e-01]\n",
      " [5.33169453e-13]]\n"
     ]
    },
    {
     "data": {
      "image/png": "[encoded data removed]",
      "text/plain": [
       "<PIL.BmpImagePlugin.BmpImageFile image mode=P size=28x28>"
      ]
     },
     "execution_count": 64,
     "metadata": {},
     "output_type": "execute_result"
    }
   ],
   "source": [
    "from PIL import Image\n",
    "import numpy\n",
    "\n",
    "im=Image.open(\"8s.bmp\") #открытие рисунка с тонкой 8-кой\n",
    "testArray=numpy.ndarray(shape=(784, 1), dtype=float, order='F') #создание контейнера для копирования значения пикселей изображения\n",
    "\n",
    "#операция копирования в контейнер пикселей изображения\n",
    "for i2 in range(28):\n",
    "    for i1 in range(28):\n",
    "        if (im.getpixel((i1, i2))) / 255 > 0:\n",
    "            #вынужден был применять костыль, т.к. 1 в значении пикселей нейросеть неадекватно воспринимает\n",
    "            testArray[i1 + i2 * 28, 0] = (im.getpixel((i1, i2))) / 255 - 0.001\n",
    "        else:\n",
    "            testArray[i1 + i2 * 28,0] = (im.getpixel((i1, i2))) / 255\n",
    "\n",
    "netSm = Network([784, 30, 10]) #создаем нейросеть с обученными весами и смещениями\n",
    "print(netSm.feedforward(testArray)) #распознаем изображение с помощью нейросети\n",
    "im"
   ]
  },
  {
   "cell_type": "markdown",
   "id": "e864f045",
   "metadata": {},
   "source": [
    "Не распознала 8. Распознала 3 - 98%"
   ]
  },
  {
   "cell_type": "markdown",
   "id": "01c9ae92",
   "metadata": {},
   "source": [
    "## Средняя"
   ]
  },
  {
   "cell_type": "code",
   "execution_count": 65,
   "id": "14e2e0d1",
   "metadata": {},
   "outputs": [
    {
     "name": "stdout",
     "output_type": "stream",
     "text": [
      "[[4.12551769e-05]\n",
      " [4.54760025e-05]\n",
      " [1.41042102e-01]\n",
      " [8.34606639e-01]\n",
      " [3.10693920e-12]\n",
      " [1.18738161e-05]\n",
      " [4.38041097e-06]\n",
      " [3.96826362e-10]\n",
      " [3.43217420e-08]\n",
      " [2.28526751e-09]]\n"
     ]
    },
    {
     "data": {
      "image/png": "[encoded data removed]",
      "text/plain": [
       "<PIL.BmpImagePlugin.BmpImageFile image mode=P size=28x28>"
      ]
     },
     "execution_count": 65,
     "metadata": {},
     "output_type": "execute_result"
    }
   ],
   "source": [
    "from PIL import Image\n",
    "import numpy\n",
    "\n",
    "im=Image.open(\"8m.bmp\") #открытие рисунка с средней 8-кой\n",
    "testArray=numpy.ndarray(shape=(784, 1), dtype=float, order='F') #создание контейнера для копирования значения пикселей изображения\n",
    "\n",
    "#операция копирования в контейнер пикселей изображения\n",
    "for i2 in range(28):\n",
    "    for i1 in range(28):\n",
    "        if (im.getpixel((i1, i2))) / 255 > 0:\n",
    "            #вынужден был применять костыль, т.к. 1 в значении пикселей нейросеть неадекватно воспринимает\n",
    "            testArray[i1 + i2 * 28, 0] = (im.getpixel((i1, i2))) / 255 - 0.001\n",
    "        else:\n",
    "            testArray[i1 + i2 * 28,0] = (im.getpixel((i1, i2))) / 255\n",
    "\n",
    "netSm = Network([784, 30, 10]) #создаем нейросеть с обученными весами и смещениями\n",
    "print(netSm.feedforward(testArray)) #распознаем изображение с помощью нейросети\n",
    "im"
   ]
  },
  {
   "cell_type": "markdown",
   "id": "f878fd76",
   "metadata": {},
   "source": [
    "Не распознала 8. Распознала 4 - 83%"
   ]
  },
  {
   "cell_type": "markdown",
   "id": "96c58f23",
   "metadata": {},
   "source": [
    "## Толстая"
   ]
  },
  {
   "cell_type": "code",
   "execution_count": 66,
   "id": "0e78b4ca",
   "metadata": {},
   "outputs": [
    {
     "name": "stdout",
     "output_type": "stream",
     "text": [
      "[[2.84255586e-03]\n",
      " [3.22968691e-08]\n",
      " [3.50450398e-01]\n",
      " [3.84399809e-04]\n",
      " [2.12545764e-09]\n",
      " [6.39819843e-05]\n",
      " [5.05635518e-03]\n",
      " [8.73411603e-14]\n",
      " [9.34511606e-03]\n",
      " [9.57074205e-08]]\n"
     ]
    },
    {
     "data": {
      "image/png": "[encoded data removed]",
      "text/plain": [
       "<PIL.BmpImagePlugin.BmpImageFile image mode=P size=28x28>"
      ]
     },
     "execution_count": 66,
     "metadata": {},
     "output_type": "execute_result"
    }
   ],
   "source": [
    "from PIL import Image\n",
    "import numpy\n",
    "\n",
    "im=Image.open(\"8l.bmp\") #открытие рисунка c толстой 8-кой\n",
    "testArray=numpy.ndarray(shape=(784, 1), dtype=float, order='F') #создание контейнера для копирования значения пикселей изображения\n",
    "\n",
    "#операция копирования в контейнер пикселей изображения\n",
    "for i2 in range(28):\n",
    "    for i1 in range(28):\n",
    "        if (im.getpixel((i1, i2))) / 255 > 0:\n",
    "            #вынужден был применять костыль, т.к. 1 в значении пикселей нейросеть неадекватно воспринимает\n",
    "            testArray[i1 + i2 * 28, 0] = (im.getpixel((i1, i2))) / 255 - 0.001\n",
    "        else:\n",
    "            testArray[i1 + i2 * 28,0] = (im.getpixel((i1, i2))) / 255\n",
    "\n",
    "netSm = Network([784, 30, 10]) #создаем нейросеть с обученными весами и смещениями\n",
    "print(netSm.feedforward(testArray)) #распознаем изображение с помощью нейросети\n",
    "im"
   ]
  },
  {
   "cell_type": "markdown",
   "id": "ceb8cb64",
   "metadata": {},
   "source": [
    "Не распознала 8. Распознала 2 - 35%"
   ]
  },
  {
   "cell_type": "code",
   "execution_count": null,
   "id": "61c4aec0",
   "metadata": {},
   "outputs": [],
   "source": []
  }
 ],
 "metadata": {
  "kernelspec": {
   "display_name": "Python 3 (ipykernel)",
   "language": "python",
   "name": "python3"
  },
  "language_info": {
   "codemirror_mode": {
    "name": "ipython",
    "version": 3
   },
   "file_extension": ".py",
   "mimetype": "text/x-python",
   "name": "python",
   "nbconvert_exporter": "python",
   "pygments_lexer": "ipython3",
   "version": "3.11.5"
  }
 },
 "nbformat": 4,
 "nbformat_minor": 5
}
