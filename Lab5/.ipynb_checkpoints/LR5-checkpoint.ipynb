{
 "cells": [
  {
   "cell_type": "code",
   "execution_count": 120,
   "id": "9d215dea",
   "metadata": {},
   "outputs": [],
   "source": [
    "import numpy as np\n",
    "from numpy.random import randn\n",
    "import random"
   ]
  },
  {
   "cell_type": "code",
   "execution_count": 121,
   "id": "43721288",
   "metadata": {},
   "outputs": [],
   "source": [
    "train_data = {\n",
    "    'vegetable': True,\n",
    "    'not vegetable': False,\n",
    "    'meat': False,\n",
    "    'not meat': True,\n",
    "    'vegies menu': True,\n",
    "    'fat': False,\n",
    "    'potato': True,\n",
    "    'a lot of vegies': True,\n",
    "    'whole bunch a meat': False,\n",
    "    'ate carrot': True,\n",
    "    'bad beef': False,\n",
    "    'tofu': True,\n",
    "    'tomatoes': True,\n",
    "    'ham': False,\n",
    "    'pepperoni': False,\n",
    "    'mushroom': True,\n",
    "    'salad': True,\n",
    "    'order some pork': True,\n",
    "    'lamb': False,\n",
    "    'sausage': True,\n",
    "    'i want carrot only': True,\n",
    "    'garlick': True,\n",
    "    'this is turkey': False,\n",
    "    'cucumber': True,\n",
    "    'pumpkin': True,\n",
    "    'duck': False,\n",
    "    'chicken': False,\n",
    "    'salad with cucumber': True,\n",
    "    'looks like roasted chicken': False,\n",
    "    'beef steak': False,\n",
    "    'pumpkin stew': True,\n",
    "    'carrot and tomatoes': True,\n",
    "    'vegie soup': True,\n",
    "    'steamed ham': False,\n",
    "    'boiled tofu': True,\n",
    "    'potato mash': True,\n",
    "    'have you tasted very grilled duck': False,\n",
    "    'not a meat sandwich': True,\n",
    "    'potato with mushroom': True,\n",
    "    'why did you make garlick oil': True,\n",
    "    'i am ordered pork with sause': False,\n",
    "    'vegie pasta with mushrooms': True,\n",
    "    'taste of meat pizza with turkey': False,\n",
    "    'there is no vegetable in my salad': True,\n",
    "    'today is the day of garlick bread with tomatoes': True,\n",
    "    'crisy chicken better with no tomatoes': False,\n",
    "    'i isnt think boiled broccoli with carrots and oil are ready': True,\n",
    "    'vegetable soup with cucumber': True,\n",
    "    'pork ham with grilled lamb': False,\n",
    "    'we are gonna to eat some meat': False,\n",
    "}\n",
    "\n",
    "test_data = {\n",
    "  'want to taste some vegetable menu': True,\n",
    "  'today ate some vegie soup': True,\n",
    "  'this is only meat in there': False,\n",
    "  'today we have roasted beef': False,\n",
    "  'want some garlick bread': True,\n",
    "  'there is no cucumber in my salad': True,\n",
    "  'i am think of my carrot stew': True,\n",
    "  'this is very bad meat': False,\n",
    "  'why there in no meat': True,\n",
    "  'think we better order some tofu': True,\n",
    "  'looks like this isnt vegetable menu': False,\n",
    "  'my duck stew isnt ready': False,\n",
    "  'you are gonna taste my broccoli mash': True,\n",
    "}"
   ]
  },
  {
   "cell_type": "code",
   "execution_count": 122,
   "id": "23670cc2",
   "metadata": {},
   "outputs": [],
   "source": [
    "class RNN:\n",
    "# Классическая рекуррентная нейронная сеть\n",
    "\n",
    "    def __init__(self, input_size, output_size, hidden_size=64):\n",
    "        # Weights\n",
    "        self.Whh = randn(hidden_size, hidden_size) / 1000\n",
    "        self.Wxh = randn(hidden_size, input_size) / 1000\n",
    "        self.Why = randn(output_size, hidden_size) / 1000\n",
    "\n",
    "        # Biases\n",
    "        self.bh = np.zeros((hidden_size, 1))\n",
    "        self.by = np.zeros((output_size, 1))\n",
    "\n",
    "    def forward(self, inputs):\n",
    "        '''\n",
    "        Выполнение передачи нейронной сети при помощи входных данных\n",
    "        Возвращение результатов вывода и скрытого состояния\n",
    "        Вывод - это массив одного унитарного вектора с формой (input_size, 1)\n",
    "        '''\n",
    "        h = np.zeros((self.Whh.shape[0], 1))\n",
    "\n",
    "        self.last_inputs = inputs\n",
    "        self.last_hs = { 0: h }\n",
    "\n",
    "        # Выполнение каждого шага нейронной сети RNN\n",
    "        for i, x in enumerate(inputs):\n",
    "            h = np.tanh(self.Wxh @ x + self.Whh @ h + self.bh)\n",
    "            self.last_hs[i + 1] = h\n",
    "\n",
    "        # Подсчет вывода\n",
    "        y = self.Why @ h + self.by\n",
    "\n",
    "        return y, h\n",
    "\n",
    "    def backprop(self, d_y, learn_rate=2e-2):\n",
    "        '''\n",
    "        Выполнение фазы обратного распространения нейронной сети RNN.\n",
    "        - d_y (dL/dy) имеет форму (output_size, 1).\n",
    "        - learn_rate является вещественным числом float.\n",
    "        '''\n",
    "        n = len(self.last_inputs)\n",
    "\n",
    "        # Вычисление dL/dWhy и dL/dby\n",
    "        d_Why = d_y @ self.last_hs[n].T\n",
    "        d_by = d_y\n",
    "\n",
    "        # Инициализация dL/dWhh, dL/dWxh, и dL/dbh к нулю\n",
    "        d_Whh = np.zeros(self.Whh.shape)\n",
    "        d_Wxh = np.zeros(self.Wxh.shape)\n",
    "        d_bh = np.zeros(self.bh.shape)\n",
    "\n",
    "        # Вычисление dL/dh для последнего h.\n",
    "        d_h = self.Why.T @ d_y\n",
    "\n",
    "        # Обратное распространение во времени.\n",
    "        for t in reversed(range(n)):\n",
    "            # Среднее значение: dL/dh * (1 - h^2)\n",
    "            temp = ((1 - self.last_hs[t + 1] ** 2) * d_h)\n",
    "\n",
    "            # dL/db = dL/dh * (1 - h^2)\n",
    "            d_bh += temp\n",
    "\n",
    "            # dL/dWhh = dL/dh * (1 - h^2) * h_{t-1}\n",
    "            d_Whh += temp @ self.last_hs[t].T\n",
    "\n",
    "            # dL/dWxh = dL/dh * (1 - h^2) * x\n",
    "            d_Wxh += temp @ self.last_inputs[t].T\n",
    "\n",
    "            # Далее dL/dh = dL/dh * (1 - h^2) * Whh\n",
    "            d_h = self.Whh @ temp\n",
    "\n",
    "        # Отсекаем, чтобы предотвратить разрыв градиентов\n",
    "        for d in [d_Wxh, d_Whh, d_Why, d_bh, d_by]:\n",
    "            np.clip(d, -1, 1, out=d)\n",
    "\n",
    "        # обновляем вес и смещение с использованием градиентного спуска\n",
    "        self.Whh -= learn_rate * d_Whh\n",
    "        self.Wxh -= learn_rate * d_Wxh\n",
    "        self.Why -= learn_rate * d_Why\n",
    "        self.bh -= learn_rate * d_bh\n",
    "        self.by -= learn_rate * d_by"
   ]
  },
  {
   "cell_type": "code",
   "execution_count": 123,
   "id": "89ffce94",
   "metadata": {},
   "outputs": [
    {
     "name": "stdout",
     "output_type": "stream",
     "text": [
      "87 unique words found\n",
      "--- Epoch 100\n",
      "Train:\tLoss 0.108 | Accuracy: 0.940\n",
      "Test:\tLoss 0.657 | Accuracy: 0.615\n",
      "--- Epoch 200\n",
      "Train:\tLoss 0.065 | Accuracy: 0.940\n",
      "Test:\tLoss 0.820 | Accuracy: 0.769\n",
      "--- Epoch 300\n",
      "Train:\tLoss 0.085 | Accuracy: 0.920\n",
      "Test:\tLoss 0.984 | Accuracy: 0.692\n",
      "--- Epoch 400\n",
      "Train:\tLoss 0.082 | Accuracy: 0.960\n",
      "Test:\tLoss 0.957 | Accuracy: 0.692\n",
      "--- Epoch 500\n",
      "Train:\tLoss 0.077 | Accuracy: 0.940\n",
      "Test:\tLoss 0.961 | Accuracy: 0.692\n",
      "--- Epoch 600\n",
      "Train:\tLoss 0.079 | Accuracy: 0.940\n",
      "Test:\tLoss 0.801 | Accuracy: 0.615\n",
      "--- Epoch 700\n",
      "Train:\tLoss 0.076 | Accuracy: 0.920\n",
      "Test:\tLoss 0.875 | Accuracy: 0.692\n",
      "--- Epoch 800\n",
      "Train:\tLoss 0.073 | Accuracy: 0.920\n",
      "Test:\tLoss 1.057 | Accuracy: 0.692\n",
      "--- Epoch 900\n",
      "Train:\tLoss 0.073 | Accuracy: 0.920\n",
      "Test:\tLoss 0.964 | Accuracy: 0.769\n",
      "--- Epoch 1000\n",
      "Train:\tLoss 0.074 | Accuracy: 0.940\n",
      "Test:\tLoss 0.859 | Accuracy: 0.769\n"
     ]
    }
   ],
   "source": [
    "# создание словаря\n",
    "vocab = list(set([w for text in train_data.keys() for w in text.split(' ')]))\n",
    "vocab_size = len(vocab)\n",
    "print('%d unique words found' % vocab_size)\n",
    "\n",
    "# назначить индекс каждому слову\n",
    "word_to_idx = { w: i for i, w in enumerate(vocab) }\n",
    "idx_to_word = { i: w for i, w in enumerate(vocab) }\n",
    "\n",
    "def createInputs(text):\n",
    "    '''\n",
    "    Возвращает массив унитарных векторов\n",
    "    которые представляют слова в введенной строке текста\n",
    "    - текст является строкой string\n",
    "    - унитарный вектор имеет форму (vocab_size, 1)\n",
    "    '''\n",
    "    inputs = []\n",
    "    for w in text.split(' '):\n",
    "        v = np.zeros((vocab_size, 1))\n",
    "        v[word_to_idx[w]] = 1\n",
    "        inputs.append(v)\n",
    "    return inputs\n",
    "\n",
    "def softmax(xs):\n",
    "    # применение функции Softmax для входного массива\n",
    "    return np.exp(xs) / sum(np.exp(xs))\n",
    "\n",
    "# инициализация нейросети\n",
    "rnn = RNN(vocab_size, 2)\n",
    "\n",
    "def processData(data, backprop=True):\n",
    "    '''\n",
    "    Возврат потери рекуррентной нейронной сети и точности для данных\n",
    "    - данные представлены как словарь, что отображает текст как True или False.\n",
    "    - backprop определяет, нужно ли использовать обратное распределение\n",
    "    '''\n",
    "    items = list(data.items())\n",
    "    random.shuffle(items)\n",
    "\n",
    "    loss = 0\n",
    "    num_correct = 0\n",
    "\n",
    "    for x, y in items:\n",
    "        inputs = createInputs(x)\n",
    "        target = int(y)\n",
    "\n",
    "        # Прямое распределение\n",
    "        out, _ = rnn.forward(inputs)\n",
    "        probs = softmax(out)\n",
    "\n",
    "        # Вычисление потери / точности\n",
    "        loss -= np.log(probs[target])\n",
    "        num_correct += int(np.argmax(probs) == target)\n",
    "\n",
    "        if backprop:\n",
    "            # Создание dL/dy\n",
    "            d_L_d_y = probs\n",
    "            d_L_d_y[target] -= 1\n",
    "\n",
    "            # Обратное распределение\n",
    "            rnn.backprop(d_L_d_y)\n",
    "\n",
    "    return loss / len(data), num_correct / len(data)\n",
    "\n",
    "# Обучение\n",
    "for epoch in range(1000):\n",
    "    train_loss, train_acc = processData(train_data)\n",
    "\n",
    "    if epoch % 100 == 99:\n",
    "        print('--- Epoch %d' % (epoch + 1))\n",
    "        print('Train:\\tLoss %.3f | Accuracy: %.3f' % (train_loss, train_acc))\n",
    "\n",
    "        test_loss, test_acc = processData(test_data, backprop=False)\n",
    "        print('Test:\\tLoss %.3f | Accuracy: %.3f' % (test_loss, test_acc))"
   ]
  },
  {
   "cell_type": "code",
   "execution_count": 124,
   "id": "d331b6d6",
   "metadata": {},
   "outputs": [
    {
     "name": "stdout",
     "output_type": "stream",
     "text": [
      "[[0.56988523]\n",
      " [0.43011477]]\n"
     ]
    }
   ],
   "source": [
    "inputs = createInputs('i eat my meat')\n",
    "out, h = rnn.forward(inputs)\n",
    "probs = softmax(out)\n",
    "print(probs)"
   ]
  },
  {
   "cell_type": "code",
   "execution_count": 126,
   "id": "17f13f47",
   "metadata": {},
   "outputs": [
    {
     "name": "stdout",
     "output_type": "stream",
     "text": [
      "Input:  this is vegies in soup \n",
      "About vegatables:  [0.9998048] \n",
      "About meat:  [0.0001952] \n",
      "\n"
     ]
    }
   ],
   "source": [
    "data = ['this is vegies in soup']\n",
    "\n",
    "for i in range (len(data)):\n",
    "    inputs = createInputs(data[i])\n",
    "    out, h = rnn.forward(inputs)\n",
    "    probs = softmax(out)\n",
    "    print('Input: ', data[i] , '\\nAbout vegatables: ', probs[1], '\\nAbout meat: ', probs[0], '\\n')"
   ]
  },
  {
   "cell_type": "code",
   "execution_count": 129,
   "id": "74d8715b",
   "metadata": {
    "scrolled": true
   },
   "outputs": [
    {
     "name": "stdout",
     "output_type": "stream",
     "text": [
      "Input:  i ordered a lot of meat \n",
      "About vegatables:  [0.50668925] \n",
      "About meat:  [0.49331075] \n",
      "\n"
     ]
    }
   ],
   "source": [
    "data = ['i ordered a lot of meat']\n",
    "\n",
    "for i in range (len(data)):\n",
    "    inputs = createInputs(data[i])\n",
    "    out, h = rnn.forward(inputs)\n",
    "    probs = softmax(out)\n",
    "    print('Input: ', data[i] , '\\nAbout vegatables: ', probs[1], '\\nAbout meat: ', probs[0], '\\n')"
   ]
  },
  {
   "cell_type": "code",
   "execution_count": 130,
   "id": "775d0f4b",
   "metadata": {},
   "outputs": [
    {
     "name": "stdout",
     "output_type": "stream",
     "text": [
      "Input:  i ordered a lot of roasted meat \n",
      "About vegatables:  [0.37890083] \n",
      "About meat:  [0.62109917] \n",
      "\n"
     ]
    }
   ],
   "source": [
    "data = ['i ordered a lot of roasted meat']\n",
    "\n",
    "for i in range (len(data)):\n",
    "    inputs = createInputs(data[i])\n",
    "    out, h = rnn.forward(inputs)\n",
    "    probs = softmax(out)\n",
    "    print('Input: ', data[i] , '\\nAbout vegatables: ', probs[1], '\\nAbout meat: ', probs[0], '\\n')"
   ]
  },
  {
   "cell_type": "code",
   "execution_count": 132,
   "id": "fe86852a",
   "metadata": {},
   "outputs": [
    {
     "name": "stdout",
     "output_type": "stream",
     "text": [
      "Input:  there is no meat in my pizza \n",
      "About vegatables:  [0.74053294] \n",
      "About meat:  [0.25946706] \n",
      "\n"
     ]
    }
   ],
   "source": [
    "data = ['there is no meat in my pizza']\n",
    "\n",
    "for i in range (len(data)):\n",
    "    inputs = createInputs(data[i])\n",
    "    out, h = rnn.forward(inputs)\n",
    "    probs = softmax(out)\n",
    "    print('Input: ', data[i] , '\\nAbout vegatables: ', probs[1], '\\nAbout meat: ', probs[0], '\\n')"
   ]
  },
  {
   "cell_type": "code",
   "execution_count": 134,
   "id": "99e36c3d",
   "metadata": {},
   "outputs": [
    {
     "name": "stdout",
     "output_type": "stream",
     "text": [
      "Input:  i want garlick oil in my salad \n",
      "About vegatables:  [0.99999947] \n",
      "About meat:  [5.32850746e-07] \n",
      "\n"
     ]
    }
   ],
   "source": [
    "data = ['i want garlick oil in my salad']\n",
    "\n",
    "for i in range (len(data)):\n",
    "    inputs = createInputs(data[i])\n",
    "    out, h = rnn.forward(inputs)\n",
    "    probs = softmax(out)\n",
    "    print('Input: ', data[i] , '\\nAbout vegatables: ', probs[1], '\\nAbout meat: ', probs[0], '\\n')"
   ]
  },
  {
   "cell_type": "code",
   "execution_count": 136,
   "id": "563e3fb4",
   "metadata": {},
   "outputs": [
    {
     "name": "stdout",
     "output_type": "stream",
     "text": [
      "Input:  pumpkin stew with beef and tomatoes \n",
      "About vegatables:  [0.99887902] \n",
      "About meat:  [0.00112098] \n",
      "\n"
     ]
    }
   ],
   "source": [
    "data = ['pumpkin stew with beef and tomatoes']\n",
    "\n",
    "for i in range (len(data)):\n",
    "    inputs = createInputs(data[i])\n",
    "    out, h = rnn.forward(inputs)\n",
    "    probs = softmax(out)\n",
    "    print('Input: ', data[i] , '\\nAbout vegatables: ', probs[1], '\\nAbout meat: ', probs[0], '\\n')"
   ]
  }
 ],
 "metadata": {
  "kernelspec": {
   "display_name": "Python 3 (ipykernel)",
   "language": "python",
   "name": "python3"
  },
  "language_info": {
   "codemirror_mode": {
    "name": "ipython",
    "version": 3
   },
   "file_extension": ".py",
   "mimetype": "text/x-python",
   "name": "python",
   "nbconvert_exporter": "python",
   "pygments_lexer": "ipython3",
   "version": "3.11.5"
  }
 },
 "nbformat": 4,
 "nbformat_minor": 5
}
