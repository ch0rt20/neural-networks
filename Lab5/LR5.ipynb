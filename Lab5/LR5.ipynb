{
 "cells": [
  {
   "cell_type": "code",
   "execution_count": 11,
   "id": "9d215dea",
   "metadata": {},
   "outputs": [],
   "source": [
    "import numpy as np\n",
    "from numpy.random import randn\n",
    "import random"
   ]
  },
  {
   "cell_type": "code",
   "execution_count": 12,
   "id": "43721288",
   "metadata": {},
   "outputs": [],
   "source": [
    "train_data = { #тренировачные данные\n",
    "    'vegetable': True,\n",
    "    'not vegetable': False,\n",
    "    'meat': False,\n",
    "    'not meat': True,\n",
    "    'vegies menu': True,\n",
    "    'fat': False,\n",
    "    'potato': True,\n",
    "    'a lot of vegies': True,\n",
    "    'whole bunch a meat': False,\n",
    "    'ate carrot': True,\n",
    "    'bad beef': False,\n",
    "    'tofu': True,\n",
    "    'tomatoes': True,\n",
    "    'ham': False,\n",
    "    'pepperoni': False,\n",
    "    'mushroom': True,\n",
    "    'salad': True,\n",
    "    'order some pork': True,\n",
    "    'lamb': False,\n",
    "    'sausage': True,\n",
    "    'i want carrot only': True,\n",
    "    'garlick': True,\n",
    "    'this is turkey': False,\n",
    "    'cucumber': True,\n",
    "    'pumpkin': True,\n",
    "    'duck': False,\n",
    "    'chicken': False,\n",
    "    'salad with cucumber': True,\n",
    "    'looks like roasted chicken': False,\n",
    "    'beef steak': False,\n",
    "    'pumpkin stew': True,\n",
    "    'carrot and tomatoes': True,\n",
    "    'vegie soup': True,\n",
    "    'steamed ham': False,\n",
    "    'boiled tofu': True,\n",
    "    'potato mash': True,\n",
    "    'have you tasted very grilled duck': False,\n",
    "    'not a meat sandwich': True,\n",
    "    'potato with mushroom': True,\n",
    "    'why did you make garlick oil': True,\n",
    "    'i am ordered pork with sause': False,\n",
    "    'vegie pasta with mushrooms': True,\n",
    "    'taste of meat pizza with turkey': False,\n",
    "    'there is no vegetable in my salad': True,\n",
    "    'today is the day of garlick bread with tomatoes': True,\n",
    "    'crisy chicken better with no tomatoes': False,\n",
    "    'i isnt think boiled broccoli with carrots and oil are ready': True,\n",
    "    'vegetable soup with cucumber': True,\n",
    "    'pork ham with grilled lamb': False,\n",
    "    'we are gonna to eat some meat': False,\n",
    "}\n",
    "\n",
    "test_data = { #проверочные данные\n",
    "  'want to taste some vegetable menu': True,\n",
    "  'today ate some vegie soup': True,\n",
    "  'this is only meat in there': False,\n",
    "  'today we have roasted beef': False,\n",
    "  'want some garlick bread': True,\n",
    "  'there is no cucumber in my salad': True,\n",
    "  'i am think of my carrot stew': True,\n",
    "  'this is very bad meat': False,\n",
    "  'why there in no meat': True,\n",
    "  'think we better order some tofu': True,\n",
    "  'looks like this isnt vegetable menu': False,\n",
    "  'my duck stew isnt ready': False,\n",
    "  'you are gonna taste my broccoli mash': True,\n",
    "}"
   ]
  },
  {
   "cell_type": "code",
   "execution_count": 13,
   "id": "23670cc2",
   "metadata": {},
   "outputs": [],
   "source": [
    "class Network: #класс с рекуррентной нейронной сетью\n",
    "    def __init__(self, input_size, output_size, hidden_size=64):\n",
    "        # веса\n",
    "        self.Whh = randn(hidden_size, hidden_size) / 1000\n",
    "        self.Wxh = randn(hidden_size, input_size) / 1000\n",
    "        self.Why = randn(output_size, hidden_size) / 1000\n",
    "\n",
    "        #biases\n",
    "        self.bh = np.zeros((hidden_size, 1))\n",
    "        self.by = np.zeros((output_size, 1))\n",
    "\n",
    "    def forward(self, inputs): #выполнение передачи нейронной сети при помощи входных данных      \n",
    "        h = np.zeros((self.Whh.shape[0], 1))\n",
    "\n",
    "        self.last_inputs = inputs\n",
    "        self.last_hs = { 0: h }\n",
    "        \n",
    "        for i, x in enumerate(inputs): #выполнение шагов нейронной сети\n",
    "            h = np.tanh(self.Wxh @ x + self.Whh @ h + self.bh)\n",
    "            self.last_hs[i + 1] = h\n",
    "\n",
    "        y = self.Why @ h + self.by #подсчет вывода\n",
    "\n",
    "        return y, h\n",
    "\n",
    "    def backprop(self, d_y, learn_rate=2e-2): #функция обратного распространения    \n",
    "        n = len(self.last_inputs)\n",
    "\n",
    "        #вычисление dL/dWhy и dL/dby\n",
    "        d_Why = d_y @ self.last_hs[n].T\n",
    "        d_by = d_y\n",
    "\n",
    "        #инициализация dL/dWhh, dL/dWxh, и dL/dbh\n",
    "        d_Whh = np.zeros(self.Whh.shape)\n",
    "        d_Wxh = np.zeros(self.Wxh.shape)\n",
    "        d_bh = np.zeros(self.bh.shape)\n",
    "\n",
    "        #вычисление dL/dh для последнего h\n",
    "        d_h = self.Why.T @ d_y\n",
    "\n",
    "        for t in reversed(range(n)):         #обратное распространение во времени\n",
    "            #среднее значение: dL/dh * (1 - h^2)\n",
    "            temp = ((1 - self.last_hs[t + 1] ** 2) * d_h)\n",
    "\n",
    "            #dL/db = dL/dh * (1 - h^2)\n",
    "            d_bh += temp\n",
    "\n",
    "            #dL/dWhh = dL/dh * (1 - h^2) * h_{t-1}\n",
    "            d_Whh += temp @ self.last_hs[t].T\n",
    "\n",
    "            #dL/dWxh = dL/dh * (1 - h^2) * x\n",
    "            d_Wxh += temp @ self.last_inputs[t].T\n",
    "\n",
    "            #далее dL/dh = dL/dh * (1 - h^2) * Whh\n",
    "            d_h = self.Whh @ temp\n",
    "\n",
    "        #отсекаем, чтобы предотвратить разрыв градиентов\n",
    "        for d in [d_Wxh, d_Whh, d_Why, d_bh, d_by]:\n",
    "            np.clip(d, -1, 1, out=d)\n",
    "\n",
    "        #обновляем вес и смещение с использованием градиентного спуска\n",
    "        self.Whh -= learn_rate * d_Whh\n",
    "        self.Wxh -= learn_rate * d_Wxh\n",
    "        self.Why -= learn_rate * d_Why\n",
    "        self.bh -= learn_rate * d_bh\n",
    "        self.by -= learn_rate * d_by"
   ]
  },
  {
   "cell_type": "code",
   "execution_count": 14,
   "id": "89ffce94",
   "metadata": {},
   "outputs": [
    {
     "name": "stdout",
     "output_type": "stream",
     "text": [
      "87 unique words found\n"
     ]
    }
   ],
   "source": [
    "vocab = list(set([w for text in train_data.keys() for w in text.split(' ')])) #создание словаря\n",
    "vocab_size = len(vocab)\n",
    "print('%d unique words found' % vocab_size)\n",
    "\n",
    "word_to_idx = { w: i for i, w in enumerate(vocab) } #назначаем индекс каждому слову\n",
    "idx_to_word = { i: w for i, w in enumerate(vocab) }\n",
    "\n",
    "def createInputs(text):  #возвращает массив унитарных векторов, которые представляют слова в введенной строке текста\n",
    "    inputs = []\n",
    "    \n",
    "    for w in text.split(' '):\n",
    "        v = np.zeros((vocab_size, 1))\n",
    "        v[word_to_idx[w]] = 1\n",
    "        inputs.append(v)\n",
    "    return inputs\n",
    "\n",
    "def softmax(xs): #функция активации softmax \n",
    "    return np.exp(xs) / sum(np.exp(xs))\n",
    "\n",
    "def processData(data, backprop=True): #возврат потери рекуррентной нейронной сети и точности для данных\n",
    "    items = list(data.items())\n",
    "    random.shuffle(items)\n",
    "\n",
    "    loss = 0\n",
    "    num_correct = 0\n",
    "\n",
    "    for x, y in items:\n",
    "        inputs = createInputs(x)\n",
    "        target = int(y)\n",
    "\n",
    "        out, _ = net.forward(inputs) #прямое распределение\n",
    "        probs = softmax(out)\n",
    "\n",
    "        loss -= np.log(probs[target]) #вычисление потери / точности\n",
    "        num_correct += int(np.argmax(probs) == target)\n",
    "\n",
    "        if backprop: #создание dL/dy\n",
    "            d_L_d_y = probs\n",
    "            d_L_d_y[target] -= 1\n",
    "\n",
    "            net.backprop(d_L_d_y)  #обратное распределение\n",
    "\n",
    "    return loss / len(data), num_correct / len(data)"
   ]
  },
  {
   "cell_type": "code",
   "execution_count": 15,
   "id": "c2b5cfac",
   "metadata": {},
   "outputs": [
    {
     "name": "stdout",
     "output_type": "stream",
     "text": [
      "--- Epoch 100\n",
      "Train:\tLoss 0.106 | Accuracy: 0.940\n",
      "Test:\tLoss 0.674 | Accuracy: 0.692\n",
      "--- Epoch 200\n",
      "Train:\tLoss 0.093 | Accuracy: 0.920\n",
      "Test:\tLoss 0.797 | Accuracy: 0.615\n",
      "--- Epoch 300\n",
      "Train:\tLoss 0.082 | Accuracy: 0.940\n",
      "Test:\tLoss 1.068 | Accuracy: 0.692\n",
      "--- Epoch 400\n",
      "Train:\tLoss 0.075 | Accuracy: 0.940\n",
      "Test:\tLoss 1.080 | Accuracy: 0.692\n",
      "--- Epoch 500\n",
      "Train:\tLoss 0.074 | Accuracy: 0.940\n",
      "Test:\tLoss 0.839 | Accuracy: 0.692\n",
      "--- Epoch 600\n",
      "Train:\tLoss 0.058 | Accuracy: 0.960\n",
      "Test:\tLoss 0.897 | Accuracy: 0.692\n",
      "--- Epoch 700\n",
      "Train:\tLoss 0.017 | Accuracy: 1.000\n",
      "Test:\tLoss 1.176 | Accuracy: 0.692\n",
      "--- Epoch 800\n",
      "Train:\tLoss 0.007 | Accuracy: 1.000\n",
      "Test:\tLoss 1.245 | Accuracy: 0.692\n",
      "--- Epoch 900\n",
      "Train:\tLoss 0.004 | Accuracy: 1.000\n",
      "Test:\tLoss 1.213 | Accuracy: 0.692\n",
      "--- Epoch 1000\n",
      "Train:\tLoss 0.003 | Accuracy: 1.000\n",
      "Test:\tLoss 1.175 | Accuracy: 0.692\n"
     ]
    }
   ],
   "source": [
    "net = Network(vocab_size, 2) #инициализация нейросети\n",
    "\n",
    "for epoch in range(1000): #обучение\n",
    "    train_loss, train_acc = processData(train_data)\n",
    "\n",
    "    if epoch % 100 == 99:\n",
    "        print('--- Epoch %d' % (epoch + 1))\n",
    "        print('Train:\\tLoss %.3f | Accuracy: %.3f' % (train_loss, train_acc))\n",
    "\n",
    "        test_loss, test_acc = processData(test_data, backprop=False)\n",
    "        print('Test:\\tLoss %.3f | Accuracy: %.3f' % (test_loss, test_acc))"
   ]
  },
  {
   "cell_type": "code",
   "execution_count": 17,
   "id": "17f13f47",
   "metadata": {},
   "outputs": [
    {
     "name": "stdout",
     "output_type": "stream",
     "text": [
      "Input:  this is vegies in soup \n",
      "About vegatables:  [0.99991136] \n",
      "About meat:  [8.86368719e-05] \n",
      "\n"
     ]
    }
   ],
   "source": [
    "data = ['this is vegies in soup']\n",
    "\n",
    "for i in range (len(data)):\n",
    "    inputs = createInputs(data[i])\n",
    "    out, h = net.forward(inputs)\n",
    "    probs = softmax(out)\n",
    "    print('Input: ', data[i] , '\\nAbout vegatables: ', probs[1], '\\nAbout meat: ', probs[0], '\\n')"
   ]
  },
  {
   "cell_type": "code",
   "execution_count": 18,
   "id": "74d8715b",
   "metadata": {
    "scrolled": true
   },
   "outputs": [
    {
     "name": "stdout",
     "output_type": "stream",
     "text": [
      "Input:  i ordered a lot of meat \n",
      "About vegatables:  [0.97170381] \n",
      "About meat:  [0.02829619] \n",
      "\n"
     ]
    }
   ],
   "source": [
    "data = ['i ordered a lot of meat']\n",
    "\n",
    "for i in range (len(data)):\n",
    "    inputs = createInputs(data[i])\n",
    "    out, h = net.forward(inputs)\n",
    "    probs = softmax(out)\n",
    "    print('Input: ', data[i] , '\\nAbout vegatables: ', probs[1], '\\nAbout meat: ', probs[0], '\\n')"
   ]
  },
  {
   "cell_type": "code",
   "execution_count": 19,
   "id": "775d0f4b",
   "metadata": {},
   "outputs": [
    {
     "name": "stdout",
     "output_type": "stream",
     "text": [
      "Input:  i ordered a lot of roasted meat \n",
      "About vegatables:  [0.0570876] \n",
      "About meat:  [0.9429124] \n",
      "\n"
     ]
    }
   ],
   "source": [
    "data = ['i ordered a lot of roasted meat']\n",
    "\n",
    "for i in range (len(data)):\n",
    "    inputs = createInputs(data[i])\n",
    "    out, h = net.forward(inputs)\n",
    "    probs = softmax(out)\n",
    "    print('Input: ', data[i] , '\\nAbout vegatables: ', probs[1], '\\nAbout meat: ', probs[0], '\\n')"
   ]
  },
  {
   "cell_type": "code",
   "execution_count": 20,
   "id": "fe86852a",
   "metadata": {},
   "outputs": [
    {
     "name": "stdout",
     "output_type": "stream",
     "text": [
      "Input:  there is no meat in my pizza \n",
      "About vegatables:  [0.99324166] \n",
      "About meat:  [0.00675834] \n",
      "\n"
     ]
    }
   ],
   "source": [
    "data = ['there is no meat in my pizza']\n",
    "\n",
    "for i in range (len(data)):\n",
    "    inputs = createInputs(data[i])\n",
    "    out, h = net.forward(inputs)\n",
    "    probs = softmax(out)\n",
    "    print('Input: ', data[i] , '\\nAbout vegatables: ', probs[1], '\\nAbout meat: ', probs[0], '\\n')"
   ]
  },
  {
   "cell_type": "code",
   "execution_count": 21,
   "id": "99e36c3d",
   "metadata": {
    "scrolled": true
   },
   "outputs": [
    {
     "name": "stdout",
     "output_type": "stream",
     "text": [
      "Input:  i want garlick oil in my salad \n",
      "About vegatables:  [0.99999985] \n",
      "About meat:  [1.49612297e-07] \n",
      "\n"
     ]
    }
   ],
   "source": [
    "data = ['i want garlick oil in my salad']\n",
    "\n",
    "for i in range (len(data)):\n",
    "    inputs = createInputs(data[i])\n",
    "    out, h = net.forward(inputs)\n",
    "    probs = softmax(out)\n",
    "    print('Input: ', data[i] , '\\nAbout vegatables: ', probs[1], '\\nAbout meat: ', probs[0], '\\n')"
   ]
  },
  {
   "cell_type": "code",
   "execution_count": 22,
   "id": "563e3fb4",
   "metadata": {},
   "outputs": [
    {
     "name": "stdout",
     "output_type": "stream",
     "text": [
      "Input:  pumpkin stew with beef and tomatoes \n",
      "About vegatables:  [0.99870088] \n",
      "About meat:  [0.00129912] \n",
      "\n"
     ]
    }
   ],
   "source": [
    "data = ['pumpkin stew with beef and tomatoes']\n",
    "\n",
    "for i in range (len(data)):\n",
    "    inputs = createInputs(data[i])\n",
    "    out, h = net.forward(inputs)\n",
    "    probs = softmax(out)\n",
    "    print('Input: ', data[i] , '\\nAbout vegatables: ', probs[1], '\\nAbout meat: ', probs[0], '\\n')"
   ]
  }
 ],
 "metadata": {
  "kernelspec": {
   "display_name": "Python 3 (ipykernel)",
   "language": "python",
   "name": "python3"
  },
  "language_info": {
   "codemirror_mode": {
    "name": "ipython",
    "version": 3
   },
   "file_extension": ".py",
   "mimetype": "text/x-python",
   "name": "python",
   "nbconvert_exporter": "python",
   "pygments_lexer": "ipython3",
   "version": "3.11.5"
  }
 },
 "nbformat": 4,
 "nbformat_minor": 5
}
