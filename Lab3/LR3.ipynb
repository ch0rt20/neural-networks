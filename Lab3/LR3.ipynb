{
 "cells": [
  {
   "cell_type": "code",
   "execution_count": 1,
   "id": "0eb8ae6e",
   "metadata": {
    "scrolled": true
   },
   "outputs": [
    {
     "name": "stdout",
     "output_type": "stream",
     "text": [
      "Сеть net:\n",
      "Количетво слоев: 3\n",
      "Количество нейронов в слое 0 : 2\n",
      "Количество нейронов в слое 1 : 3\n",
      "Количество нейронов в слое 2 : 1\n",
      "W_ 1 :\n",
      "[[-0.21 -3.21]\n",
      " [ 1.6   0.72]\n",
      " [-1.    0.72]]\n",
      "b_ 1 :\n",
      "[[0.09]\n",
      " [0.08]\n",
      " [0.27]]\n",
      "W_ 2 :\n",
      "[[ 0.19  0.42 -0.5 ]]\n",
      "b_ 2 :\n",
      "[[1.83]]\n"
     ]
    }
   ],
   "source": [
    "\"\"\"\"\"\"\"\"\"\"\"\"\"\"\"\"\"\"\"\"\"\"\"\"\"\"\"\"\"\"\"\"\"\"\"\"\"\"\"\n",
    "Модуль создания и обучения нейронной сети для распознавания рукописных цифр с использованием метода градиентного спуска.\n",
    "Группа: АСУб-20-1\n",
    "ФИО: Устюжанин Вадим Максимович\n",
    "\"\"\"\"\"\"\"\"\"\"\"\"\"\"\"\"\"\"\"\"\"\"\"\"\"\"\"\"\"\"\"\"\"\"\"\"\"\"\"\n",
    "#### Библиотеки\n",
    "import random # библиотека функций для генерации случайных значений\n",
    "import numpy as np # библиотека функций для работы с матрицами\n",
    "\n",
    "\"\"\" ---Раздел описаний--- \"\"\"\n",
    "\"\"\" --Описание класса Network--\"\"\"\n",
    "class Network(object): # используется для описания нейронной сети\n",
    "    def __init__(self, sizes): # конструктор класса, self – указатель на объект класса, sizes – список размеров слоев нейронной сети\n",
    "        self.num_layers = len(sizes) # задаем количество слоев нейронной сети\n",
    "        self.sizes = sizes # задаем список размеров слоев нейронной сети\n",
    "        self.biases = [np.random.randn(y, 1) for y in sizes[1:]] # задаем случайные начальные смещения\n",
    "        self.weights = [np.random.randn(y, x) for x, y in zip(sizes[:-1], sizes[1:])] # задаем случайные начальные веса связей\n",
    "            \n",
    "    def feedforward(self, a):\n",
    "        for b, w in zip(self.biases, self.weights):\n",
    "            a = sigmoid(np.dot(w, a)+b)\n",
    "        return a\n",
    "    \n",
    "    def SGD( # Стохастический градиентный спуск\n",
    "              self # указатель на объект класса\n",
    "            , training_data # обучающая выборка\n",
    "            , epochs # количество эпох обучения\n",
    "            , mini_batch_size # размер подвыборки\n",
    "            , eta # скорость обучения\n",
    "            , test_data # тестирующая выборка\n",
    "            ):\n",
    "        test_data = list(test_data) # создаем список объектов тестирующей выборки\n",
    "        n_test = len(test_data) # вычисляем длину тестирующей выборки\n",
    "        training_data = list(training_data) # создаем список объектов обучающей выборки\n",
    "        n = len(training_data) # вычисляем размер обучающей выборки\n",
    "        for j in range(epochs): # цикл по эпохам\n",
    "            random.shuffle(training_data) # перемешиваем элементы обучающей выборки\n",
    "            mini_batches = [training_data[k:k+mini_batch_size] for k in range(0, n, mini_batch_size)] # создаем подвыборки\n",
    "            for mini_batch in mini_batches: # цикл по подвыборкам\n",
    "                self.update_mini_batch(mini_batch, eta) # один шаг градиентного спуска\n",
    "            print (\"Epoch {0}: {1} / {2}\".format(j, self.evaluate(test_data), n_test)) # смотрим прогресс в обучении    \n",
    "            with open('biases.pkl', 'wb') as f:\n",
    "                pickle.dump(self.biases, f)\n",
    "            with open('weights.pkl', 'wb') as f:\n",
    "                pickle.dump(self.weights, f)\n",
    "            \n",
    "    def update_mini_batch( # Шаг градиентного спуска\n",
    "                          self # указатель на объект класса\n",
    "                        , mini_batch # подвыборка\n",
    "                        , eta # скорость обучения\n",
    "                        ):\n",
    "        nabla_b = [np.zeros(b.shape) for b in self.biases] # список градиентов dC/db для каждого слоя (первоначально заполняются нулями)\n",
    "        nabla_w = [np.zeros(w.shape) for w in self.weights] # список градиентов dC/dw для каждого слоя (первоначально заполняются нулями)\n",
    "        for x, y in mini_batch:\n",
    "            delta_nabla_b, delta_nabla_w = self.backprop(x, y) # послойно вычисляем градиенты dC/db и dC/dw для текущего прецедента (x, y)\n",
    "            nabla_b = [nb+dnb for nb, dnb in zip(nabla_b, delta_nabla_b)] # суммируем градиенты dC/db для различных прецедентов текущей подвыборки\n",
    "            nabla_w = [nw+dnw for nw, dnw in zip(nabla_w, delta_nabla_w)] # суммируем градиенты dC/dw для различных прецедентов текущей подвыборки\n",
    "        self.weights = [w-(eta/len(mini_batch))*nw for w, nw in zip(self.weights, nabla_w)] # обновляем все веса w нейронной сети\n",
    "        self.biases = [b-(eta/len(mini_batch))*nb for b, nb in zip(self.biases, nabla_b)] # обновляем все смещения b нейронной сети\n",
    "        \n",
    "    def backprop( # Алгоритм обратного распространения\n",
    "                  self # указатель на объект класса\n",
    "                , x # вектор входных сигналов\n",
    "                , y # ожидаемый вектор выходных сигналов\n",
    "                ):\n",
    "        nabla_b = [np.zeros(b.shape) for b in self.biases] # список градиентов dC/db для каждого слоя (первоначально заполняются нулями)\n",
    "        nabla_w = [np.zeros(w.shape) for w in self.weights] # список градиентов dC/dw для каждого слоя (первоначально заполняются нулями)\n",
    "\n",
    "        # определение переменных\n",
    "        activation = x # выходные сигналы слоя (первоначально соответствует выходным сигналам 1-го слоя или входным сигналам сети)\n",
    "        activations = [x] # список выходных сигналов по всем слоям (первоначально содержит только выходные сигналы 1-го слоя)\n",
    "        zs = [] # список активационных потенциалов по всем слоям (первоначально пуст)\n",
    "\n",
    "        # прямое распространение\n",
    "        for b, w in zip(self.biases, self.weights):\n",
    "            z = np.dot(w, activation)+b # считаем активационные потенциалы текущего слоя\n",
    "            zs.append(z) # добавляем элемент (активационные потенциалы слоя) в конец списка\n",
    "            activation = sigmoid(z) # считаем выходные сигналы текущего слоя, применяя сигмоидальную функцию активации к активационным потенциалам слоя\n",
    "            activations.append(activation) # добавляем элемент (выходные сигналы слоя) в конец списка\n",
    "\n",
    "        # обратное распространение\n",
    "        delta = self.cost_derivative(activations[-1], y) * sigmoid_prime(zs[-1]) # считаем меру влияния нейронов выходного слоя L на величину ошибки (BP1)\n",
    "        nabla_b[-1] = delta # градиент dC/db для слоя L (BP3)\n",
    "        nabla_w[-1] = np.dot(delta, activations[-2].transpose()) # градиент dC/dw для слоя L (BP4)\n",
    "        for l in range(2, self.num_layers):\n",
    "            z = zs[-l] # активационные потенциалы l-го слоя (двигаемся \"Положение EcoRobotics.docx\"списку справа налево)\n",
    "            sp = sigmoid_prime(z) # считаем сигмоидальную функцию от активационных потенциалов l-го слоя\n",
    "            delta = np.dot(self.weights[-l+1].transpose(), delta) * sp # считаем меру влияния нейронов l-го слоя на величину ошибки (BP2)\n",
    "            nabla_b[-l] = delta # градиент dC/db для l-го слоя (BP3)\n",
    "            nabla_w[-l] = np.dot(delta, activations[-l-1].transpose())# градиент dC/dw для l-го слоя (BP4)\n",
    "        return (nabla_b, nabla_w)\n",
    "    \n",
    "    def evaluate(self, test_data): # Оценка прогресса в обучении\n",
    "        test_results = [(np.argmax(self.feedforward(x)), y) for (x, y) in test_data]\n",
    "        return sum(int(x == y) for (x, y) in test_results)\n",
    "    \n",
    "    def cost_derivative(self, output_activations, y): # Вычисление частных производных стоимостной функции по выходным сигналам последнего слоя\n",
    "        return (output_activations-y)\n",
    "    \n",
    "        \"\"\" --Конец описания класса Network--\"\"\"\n",
    "\"\"\" --- Конец раздела описаний--- \"\"\"\n",
    "\n",
    "\"\"\" ---Тело программы--- \"\"\"\n",
    "net = Network([2, 3, 1]) # создаем нейронную сеть из трех слоев\n",
    "\"\"\" ---Конец тела программы--- \"\"\"\n",
    "\"\"\" Вывод результата на экран: \"\"\"\n",
    "print('Сеть net:')\n",
    "print('Количетво слоев:', net.num_layers)\n",
    "for i in range(net.num_layers):\n",
    "    print('Количество нейронов в слое', i,':',net.sizes[i])\n",
    "for i in range(net.num_layers-1):\n",
    "    print('W_',i+1,':')\n",
    "    print(np.round(net.weights[i],2))\n",
    "    print('b_',i+1,':')\n",
    "    print(np.round(net.biases[i],2))"
   ]
  },
  {
   "cell_type": "code",
   "execution_count": 2,
   "id": "7a8627db",
   "metadata": {},
   "outputs": [],
   "source": [
    "def sigmoid(z): # определение сигмоидальной функции активации\n",
    "        return 1.0/(1.0+np.exp(-z))\n",
    "    \n",
    "def sigmoid_prime(z):# Производная сигмоидальной функции\n",
    "        return sigmoid(z)*(1-sigmoid(z))"
   ]
  },
  {
   "cell_type": "code",
   "execution_count": 3,
   "id": "1f47e6fc",
   "metadata": {
    "scrolled": false
   },
   "outputs": [
    {
     "name": "stdout",
     "output_type": "stream",
     "text": [
      "Epoch 0: 9033 / 10000\n",
      "Epoch 1: 9232 / 10000\n",
      "Epoch 2: 9332 / 10000\n",
      "Epoch 3: 9359 / 10000\n",
      "Epoch 4: 9345 / 10000\n",
      "Epoch 5: 9346 / 10000\n",
      "Epoch 6: 9400 / 10000\n",
      "Epoch 7: 9410 / 10000\n",
      "Epoch 8: 9448 / 10000\n",
      "Epoch 9: 9447 / 10000\n",
      "Epoch 10: 9457 / 10000\n",
      "Epoch 11: 9437 / 10000\n",
      "Epoch 12: 9441 / 10000\n",
      "Epoch 13: 9463 / 10000\n",
      "Epoch 14: 9456 / 10000\n",
      "Epoch 15: 9464 / 10000\n",
      "Epoch 16: 9486 / 10000\n",
      "Epoch 17: 9480 / 10000\n",
      "Epoch 18: 9478 / 10000\n",
      "Epoch 19: 9465 / 10000\n",
      "Epoch 20: 9475 / 10000\n",
      "Epoch 21: 9457 / 10000\n",
      "Epoch 22: 9468 / 10000\n",
      "Epoch 23: 9482 / 10000\n",
      "Epoch 24: 9472 / 10000\n",
      "Epoch 25: 9482 / 10000\n",
      "Epoch 26: 9508 / 10000\n",
      "Epoch 27: 9493 / 10000\n",
      "Epoch 28: 9512 / 10000\n",
      "Epoch 29: 9487 / 10000\n"
     ]
    }
   ],
   "source": [
    "import gzip # библиотека для сжатия и распаковки файлов gzip и gunzip.\n",
    "import pickle # библиотека для сохранения и загрузки сложных объектов Python.\n",
    "import numpy as np # библиотека для работы с матрицами\n",
    "\n",
    "def load_data():\n",
    "    f = gzip.open('mnist.pkl.gz', 'rb') # открываем сжатый файл gzip в двоичном режиме\n",
    "    training_data, validation_data, test_data = pickle.load(f, encoding='latin1') # загружам таблицы из файла\n",
    "    f.close() # закрываем файл\n",
    "    return (training_data, validation_data, test_data)\n",
    "\n",
    "def load_data_wrapper():\n",
    "    tr_d, va_d, te_d = load_data() # инициализация наборов данных в формате MNIST\n",
    "    training_inputs = [np.reshape(x, (784, 1)) for x in tr_d[0]] # преобразование массивов размера 1 на 784 к массивам размера 784 на 1\n",
    "    training_results = [vectorized_result(y) for y in tr_d[1]] # представление цифр от 0 до 9 в виде массивов размера 10 на 1\n",
    "    training_data = zip(training_inputs, training_results) # формируем набор обучающих данных из пар (x, y)\n",
    "    validation_inputs = [np.reshape(x, (784, 1)) for x in va_d[0]] # преобразование массивов размера 1 на 784 к массивам размера 784 на 1\n",
    "    validation_data = zip(validation_inputs, va_d[1]) # формируем набор данных проверки из пар (x, y)\n",
    "    test_inputs = [np.reshape(x, (784, 1)) for x in te_d[0]] # преобразование массивов размера 1 на 784 к массивам размера 784 на 1\n",
    "    test_data = zip(test_inputs, te_d[1]) # формируем набор тестовых данных из пар (x, y)\n",
    "    return (training_data, validation_data, test_data)\n",
    "\n",
    "def vectorized_result(j):\n",
    "    e = np.zeros((10, 1))\n",
    "    e[j] = 1\n",
    "    return e\n",
    "\n",
    "training_data, validation_data,test_data = load_data_wrapper()\n",
    "\n",
    "net = Network([784, 30, 10])\n",
    "net.SGD(training_data, 30, 10, 3.0, test_data=test_data)"
   ]
  },
  {
   "cell_type": "code",
   "execution_count": 4,
   "id": "a8360c2f",
   "metadata": {},
   "outputs": [],
   "source": [
    "import numpy as np # библиотека функций для работы с матрицами\n",
    "import pickle\n",
    "\n",
    "def sigmoid(z): # определение сигмоидальной функции активации\n",
    "    return 1.0/(1.0+np.exp(-z))\n",
    "\n",
    "class Network(object): # используется для описания нейронной сети\n",
    "    def feedforward(self, a):\n",
    "        for b, w in zip(self.biases, self.weights):\n",
    "            a = sigmoid(np.dot(w, a)+b)\n",
    "        return a\n",
    "\n",
    "    def __init__(self, sizes): # конструктор класса\n",
    "    # self – указатель на объект класса\n",
    "    # sizes – список размеров слоев нейронной сети\n",
    "        self.num_layers = len(sizes) # задаем количество слоев нейронной сети\n",
    "        self.sizes = sizes # задаем список размеров слоев нейронной сети\n",
    "\n",
    "        with open('biases.pkl', 'rb') as f: #открытие файла со смещениями\n",
    "            self.biases = pickle.load(f)\n",
    "        with open('weights.pkl', 'rb') as f: #открытие файла с весами\n",
    "            self.weights = pickle.load(f)"
   ]
  },
  {
   "cell_type": "markdown",
   "id": "1801442d",
   "metadata": {},
   "source": [
    "# Определение двузначных чисел"
   ]
  },
  {
   "cell_type": "markdown",
   "id": "b081de14",
   "metadata": {},
   "source": [
    "Создание резервных файлов copy, left и right \n",
    "\n",
    "copy - используется как буфер для разбиения числа на два\n",
    "\n",
    "left и right это разбитое на два десятичное число\n",
    "\n",
    "left - хранит в себе левую часть числа\n",
    "right - хранит в себе правую часть числа"
   ]
  },
  {
   "cell_type": "code",
   "execution_count": 17,
   "id": "5d61627b",
   "metadata": {},
   "outputs": [],
   "source": [
    "from PIL import Image\n",
    "\n",
    "new_image = Image.new(\"RGB\", (28, 28), color = 'black')\n",
    "new_image = new_image.convert('P')\n",
    "\n",
    "new_image.save(\"copy.bmp\")\n",
    "new_image.save(\"left.bmp\")\n",
    "new_image.save(\"second.bmp\")"
   ]
  },
  {
   "cell_type": "code",
   "execution_count": 60,
   "id": "b42fae2d",
   "metadata": {},
   "outputs": [],
   "source": [
    "def getImage(number): #функция для определения изображения\n",
    "    image = Image.open(\"copy.bmp\") #открываем копию, чтобы не сломать исходный файл\n",
    "    image = image.convert(\"RGB\")\n",
    "    \n",
    "    width, height = image.size\n",
    "    white_pixels_count = 0 #счётчик белых пикселей\n",
    "    \n",
    "    x1, y1, x2, y2 = 0, height, width, 0\n",
    "\n",
    "    for x in range(width):\n",
    "        for y in range(height):\n",
    "            if image.getpixel((x, y)) == (255, 255, 255):\n",
    "                white_pixels_count +=1\n",
    "                if y > y2: y2 = y #поиск нижней границы y\n",
    "                if y < y1: y1 = y #поиск верхней границы y\n",
    "                if x1 == 0: x1 = x - 1 #поиск левой границы y\n",
    "        #поиск правой границы x и выход и цикла\n",
    "        if white_pixels_count == 0 and x1 != 0:\n",
    "            x2 = x\n",
    "            break\n",
    "        white_pixels_count = 0\n",
    "        \n",
    "    #обрезка левой цифры\n",
    "    num_1 = image.crop((x1, y1, x2, y2))\n",
    "    num_1.save(number)\n",
    " \n",
    "    #поиск правой цифры\n",
    "    image = image.crop((x2, 0, width, height))\n",
    "    image.save(\"copy.bmp\")\n",
    "    width, height = num_1.size\n",
    "    \n",
    "    #определение области изображения второй цифры\n",
    "    if width > height:\n",
    "        length = round(width * 1.25)\n",
    "    else:\n",
    "        length = round(height * 1.25)\n",
    "      \n",
    "    new_image = Image.new(\"RGB\", (length, length), color = 'black')\n",
    "    #определение координат правой цифры\n",
    "    x = int((length - width)/2)\n",
    "    y = int((length - height)/2)\n",
    "    \n",
    "    new_image.paste(num_1, (x, y, x + width, y + height)) #вставка цифры в num_1\n",
    "    new_image = new_image.resize((28, 28))\n",
    "    new_image = new_image.convert('P')\n",
    "    \n",
    "    new_image.save(number)\n",
    "    \n",
    "def determine(name): #функция с определением чисел через нейросеть\n",
    "    if __name__ == \"__main__\":\n",
    "        \n",
    "        img = Image.open(name)\n",
    "        img.save(\"copy.bmp\")\n",
    "\n",
    "        #получаем картинки с цифрами\n",
    "        getImage(\"left.bmp\")\n",
    "        getImage(\"right.bmp\")\n",
    "\n",
    "        #определяем левую часть\n",
    "        im=Image.open(\"left.bmp\")\n",
    "        testArray=np.ndarray(shape=(784, 1), dtype=float, order='F')\n",
    "\n",
    "        for i2 in range(28):\n",
    "            for i1 in range(28):\n",
    "                if (im.getpixel((i1, i2))) / 255 > 0:\n",
    "                    #вынужден был применять костыль, т.к. 1 в значении пикселей нейросеть неадекватно воспринимает\n",
    "                    testArray[i1 + i2 * 28, 0] = (im.getpixel((i1, i2))) / 255 - 0.001\n",
    "                else:\n",
    "                    testArray[i1 + i2 * 28,0] = (im.getpixel((i1, i2))) / 255\n",
    "\n",
    "        net = Network([784, 30, 10]) #создаем нейросеть с обученными весами и смещениями\n",
    "        print(net.feedforward(testArray)) #распознаем изображение с помощью нейросети\n",
    "        \n",
    "        #определяем правую часть\n",
    "        im=Image.open(\"right.bmp\")\n",
    "        testArray=np.ndarray(shape=(784, 1), dtype=float, order='F')\n",
    "\n",
    "        for i2 in range(28):\n",
    "            for i1 in range(28):\n",
    "                if (im.getpixel((i1, i2))) / 255 > 0:\n",
    "                    #вынужден был применять костыль, т.к. 1 в значении пикселей нейросеть неадекватно воспринимает\n",
    "                    testArray[i1 + i2 * 28, 0] = (im.getpixel((i1, i2))) / 255 - 0.001\n",
    "                else:\n",
    "                    testArray[i1 + i2 * 28,0] = (im.getpixel((i1, i2))) / 255\n",
    "\n",
    "        net = Network([784, 30, 10]) #создаем нейросеть с обученными весами и смещениями\n",
    "        print(net.feedforward(testArray)) #распознаем изображение с помощью нейросети\n",
    "        \n",
    "        #выводим картинку\n",
    "        im"
   ]
  },
  {
   "cell_type": "code",
   "execution_count": 61,
   "id": "ee50319b",
   "metadata": {
    "scrolled": false
   },
   "outputs": [
    {
     "name": "stdout",
     "output_type": "stream",
     "text": [
      "[[1.31062004e-12]\n",
      " [2.67565943e-01]\n",
      " [8.42927692e-10]\n",
      " [2.90119728e-06]\n",
      " [1.15953815e-08]\n",
      " [6.38889729e-08]\n",
      " [2.68804322e-09]\n",
      " [4.43043488e-01]\n",
      " [4.16581851e-05]\n",
      " [4.26065279e-03]]\n",
      "[[1.06152193e-05]\n",
      " [1.47637064e-03]\n",
      " [9.97746811e-01]\n",
      " [8.44471621e-05]\n",
      " [3.12281828e-11]\n",
      " [2.52549524e-07]\n",
      " [1.31750187e-03]\n",
      " [3.03851543e-06]\n",
      " [2.18127649e-07]\n",
      " [1.86858601e-06]]\n"
     ]
    },
    {
     "data": {
      "image/png": "[encoded data removed]",
      "text/plain": [
       "<PIL.BmpImagePlugin.BmpImageFile image mode=P size=28x28>"
      ]
     },
     "execution_count": 61,
     "metadata": {},
     "output_type": "execute_result"
    }
   ],
   "source": [
    "determine(\"18.bmp\")\n",
    "im=Image.open(\"18.bmp\")\n",
    "im"
   ]
  },
  {
   "cell_type": "code",
   "execution_count": 62,
   "id": "67e93c58",
   "metadata": {
    "scrolled": false
   },
   "outputs": [
    {
     "name": "stdout",
     "output_type": "stream",
     "text": [
      "[[1.01375614e-06]\n",
      " [1.26705421e-04]\n",
      " [4.89886699e-01]\n",
      " [3.60941906e-05]\n",
      " [1.93901749e-07]\n",
      " [1.44705456e-05]\n",
      " [1.10868253e-05]\n",
      " [1.31682305e-03]\n",
      " [1.18056881e-07]\n",
      " [1.20908552e-09]]\n",
      "[[3.92140350e-05]\n",
      " [1.44715561e-05]\n",
      " [1.24906099e-05]\n",
      " [1.98812759e-04]\n",
      " [1.82282484e-10]\n",
      " [1.97558146e-02]\n",
      " [8.99503805e-10]\n",
      " [6.12719043e-03]\n",
      " [2.28728473e-07]\n",
      " [6.82836872e-05]]\n"
     ]
    },
    {
     "data": {
      "image/png": "[encoded data removed]",
      "text/plain": [
       "<PIL.BmpImagePlugin.BmpImageFile image mode=P size=28x28>"
      ]
     },
     "execution_count": 62,
     "metadata": {},
     "output_type": "execute_result"
    }
   ],
   "source": [
    "determine(\"29.bmp\")\n",
    "im=Image.open(\"29.bmp\")\n",
    "im"
   ]
  },
  {
   "cell_type": "code",
   "execution_count": 63,
   "id": "2e8b9a2b",
   "metadata": {},
   "outputs": [
    {
     "name": "stdout",
     "output_type": "stream",
     "text": [
      "[[8.07548767e-08]\n",
      " [2.07607153e-10]\n",
      " [1.70030867e-10]\n",
      " [2.40704720e-01]\n",
      " [4.81309070e-04]\n",
      " [5.97835585e-05]\n",
      " [4.81209545e-04]\n",
      " [1.92255727e-06]\n",
      " [6.43273405e-05]\n",
      " [2.36451035e-08]]\n",
      "[[8.38015536e-04]\n",
      " [1.26678375e-04]\n",
      " [3.78802925e-07]\n",
      " [1.20824534e-05]\n",
      " [5.12848892e-10]\n",
      " [1.13186732e-04]\n",
      " [4.29727952e-04]\n",
      " [1.12227220e-05]\n",
      " [8.25222411e-03]\n",
      " [3.15874604e-10]]\n"
     ]
    },
    {
     "data": {
      "image/png": "[encoded data removed]",
      "text/plain": [
       "<PIL.BmpImagePlugin.BmpImageFile image mode=P size=28x28>"
      ]
     },
     "execution_count": 63,
     "metadata": {},
     "output_type": "execute_result"
    }
   ],
   "source": [
    "determine(\"30.bmp\")\n",
    "im=Image.open(\"30.bmp\")\n",
    "im"
   ]
  },
  {
   "cell_type": "code",
   "execution_count": 64,
   "id": "30cfca7a",
   "metadata": {},
   "outputs": [
    {
     "name": "stdout",
     "output_type": "stream",
     "text": [
      "[[1.91564361e-09]\n",
      " [1.47243375e-10]\n",
      " [8.42062780e-06]\n",
      " [6.80640593e-04]\n",
      " [3.92564703e-01]\n",
      " [1.26182341e-04]\n",
      " [1.74026044e-10]\n",
      " [6.64777336e-06]\n",
      " [3.79880400e-03]\n",
      " [2.26983442e-01]]\n",
      "[[7.93858809e-13]\n",
      " [1.19454048e-04]\n",
      " [5.56333811e-09]\n",
      " [1.43141463e-09]\n",
      " [2.81734155e-08]\n",
      " [1.78308183e-05]\n",
      " [6.21608662e-02]\n",
      " [1.98359304e-04]\n",
      " [2.21198587e-10]\n",
      " [1.37638465e-03]]\n"
     ]
    },
    {
     "data": {
      "image/png": "[encoded data removed]",
      "text/plain": [
       "<PIL.BmpImagePlugin.BmpImageFile image mode=P size=28x28>"
      ]
     },
     "execution_count": 64,
     "metadata": {},
     "output_type": "execute_result"
    }
   ],
   "source": [
    "determine(\"47.bmp\")\n",
    "im=Image.open(\"47.bmp\")\n",
    "im"
   ]
  },
  {
   "cell_type": "code",
   "execution_count": 65,
   "id": "c34a5296",
   "metadata": {
    "scrolled": false
   },
   "outputs": [
    {
     "name": "stdout",
     "output_type": "stream",
     "text": [
      "[[1.51166819e-05]\n",
      " [2.00431607e-09]\n",
      " [4.67866073e-08]\n",
      " [1.90372923e-05]\n",
      " [1.05263293e-06]\n",
      " [9.86887215e-01]\n",
      " [2.38019790e-07]\n",
      " [1.35361940e-08]\n",
      " [7.22140043e-03]\n",
      " [2.28676114e-03]]\n",
      "[[1.46103023e-03]\n",
      " [1.70331962e-09]\n",
      " [1.15045689e-03]\n",
      " [8.87628088e-06]\n",
      " [6.61054440e-09]\n",
      " [1.04105055e-02]\n",
      " [9.94136634e-01]\n",
      " [1.20997650e-10]\n",
      " [3.94600529e-06]\n",
      " [4.31798184e-10]]\n"
     ]
    },
    {
     "data": {
      "image/png": "[encoded data removed]",
      "text/plain": [
       "<PIL.BmpImagePlugin.BmpImageFile image mode=P size=28x28>"
      ]
     },
     "execution_count": 65,
     "metadata": {},
     "output_type": "execute_result"
    }
   ],
   "source": [
    "determine(\"56.bmp\")\n",
    "im=Image.open(\"56.bmp\")\n",
    "im"
   ]
  }
 ],
 "metadata": {
  "kernelspec": {
   "display_name": "Python 3 (ipykernel)",
   "language": "python",
   "name": "python3"
  },
  "language_info": {
   "codemirror_mode": {
    "name": "ipython",
    "version": 3
   },
   "file_extension": ".py",
   "mimetype": "text/x-python",
   "name": "python",
   "nbconvert_exporter": "python",
   "pygments_lexer": "ipython3",
   "version": "3.11.5"
  }
 },
 "nbformat": 4,
 "nbformat_minor": 5
}
