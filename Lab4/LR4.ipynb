{
 "cells": [
  {
   "cell_type": "code",
   "execution_count": 1,
   "id": "4016af6d",
   "metadata": {},
   "outputs": [],
   "source": [
    "import numpy as np\n",
    "from tqdm import tqdm\n",
    "import argparse\n",
    "import matplotlib.pyplot as plt\n",
    "import pickle\n",
    "import gzip\n",
    "\n",
    "from PIL import Image"
   ]
  },
  {
   "cell_type": "code",
   "execution_count": 2,
   "id": "3d0785a3",
   "metadata": {},
   "outputs": [],
   "source": [
    "#Функции для работы нейронной сети\n",
    "def convolution(image, filt, bias, s=1):\n",
    "    #Сворачивание фильтра над изображением с шагом `s`\n",
    "    (n_f, n_c_f, f, _) = filt.shape #Размеры фильтра\n",
    "    n_c, in_dim, _ = image.shape #Размеры изображения\n",
    "    \n",
    "    out_dim = int((in_dim - f)/s)+1 #Подсчет размеров выхода\n",
    "    \n",
    "    assert n_c == n_c_f, \"Размеры фильтра должны совпадать с размерами изображения\"\n",
    "    \n",
    "    out = np.zeros((n_f,out_dim,out_dim))\n",
    "    \n",
    "    #Сворачивает фильтр над каждой частью изображению, добавляя смещение на каждом шагу     \n",
    "    for curr_f in range(n_f):\n",
    "        curr_y = out_y = 0\n",
    "        while curr_y + f <= in_dim:\n",
    "            curr_x = out_x = 0\n",
    "            while curr_x + f <= in_dim:\n",
    "                out[curr_f, out_y, out_x] = np.sum(filt[curr_f] * image[:,curr_y:curr_y+f, curr_x:curr_x+f]) + bias[curr_f]\n",
    "                curr_x += s\n",
    "                out_x += 1\n",
    "            curr_y += s\n",
    "            out_y += 1\n",
    "        \n",
    "    return out\n",
    "\n",
    "def maxpool(image, f=2, s=2):    #Максимальная субдискретизация\n",
    "                                 ##Понижение размера изображения с помощью размера ядра / фильтра `f` и шага `s`\n",
    "\n",
    "    n_c, h_prev, w_prev = image.shape #Получение размеров изображения    \n",
    "    h = int((h_prev - f)/s)+1 #Вычисление новых рамеров изображения\n",
    "    w = int((w_prev - f)/s)+1\n",
    "    \n",
    "    downsampled = np.zeros((n_c, h, w))\n",
    "    for i in range(n_c):\n",
    "        #Проход окна субдискретизации над каждой частью изображения и вычисление максимального значения на каждом шаге для выхода\n",
    "        curr_y = out_y = 0\n",
    "        while curr_y + f <= h_prev:\n",
    "            curr_x = out_x = 0\n",
    "            while curr_x + f <= w_prev:\n",
    "                downsampled[i, out_y, out_x] = np.max(image[i, curr_y:curr_y+f, curr_x:curr_x+f])\n",
    "                curr_x += s\n",
    "                out_x += 1\n",
    "            curr_y += s\n",
    "            out_y += 1\n",
    "    return downsampled\n",
    "\n",
    "def softmax(X): #Функция активации, получает необработанные прогнозы, отдает вероятности, сумма которых равна 1\n",
    "    out = np.exp(X)\n",
    "    return out/np.sum(out)\n",
    "\n",
    "def predict(image, f1, f2, w3, w4, b1, b2, b3, b4, conv_s = 1, pool_f = 2, pool_s = 2):#Выполняем прогноз с обученными фильтрами/весами\n",
    "    conv1 = convolution(image, f1, b1, conv_s) # свертка\n",
    "    conv1[conv1<=0] = 0 #relu - функция активации\n",
    "    \n",
    "    conv2 = convolution(conv1, f2, b2, conv_s) #вторая свертка\n",
    "    conv2[conv2<=0] = 0 #проход через нелинейную функцю активации\n",
    "    \n",
    "    pooled = maxpool(conv2, pool_f, pool_s) #максимальная субдискретизация\n",
    "    (nf2, dim2, _) = pooled.shape\n",
    "    fc = pooled.reshape((nf2 * dim2 * dim2, 1)) #сведение объединенных слоев\n",
    "    \n",
    "    z = w3.dot(fc) + b3 #первый dense слой\n",
    "    z[z<=0] = 0 #проход через нелинейную функцю активации\n",
    "    \n",
    "    out = w4.dot(z) + b4 #второй dense слой\n",
    "\n",
    "    probs = softmax(out) #прогнозирует вероятности с помощью функции активации softmax\n",
    "    \n",
    "    return np.argmax(probs), np.max(probs), probs #возвращаем полученную цифру, максимальную вероятность, список всех вероятностей"
   ]
  },
  {
   "cell_type": "code",
   "execution_count": 3,
   "id": "38ba5ce4",
   "metadata": {},
   "outputs": [],
   "source": [
    "im0 = Image.open(\"0.bmp\")\n",
    "im1 = Image.open(\"1.bmp\")\n",
    "im2 = Image.open(\"2.bmp\")\n",
    "im3 = Image.open(\"3.bmp\")\n",
    "im4 = Image.open(\"4.bmp\")\n",
    "im5 = Image.open(\"5.bmp\")\n",
    "im6 = Image.open(\"6.bmp\")\n",
    "im7 = Image.open(\"7.bmp\")\n",
    "im8 = Image.open(\"8.bmp\")\n",
    "im9 = Image.open(\"9.bmp\")\n",
    "\n",
    "tmp0 = np.asarray(im0, dtype=np.float32).reshape((784,))\n",
    "tmp1 = np.asarray(im1, dtype=np.float32).reshape((784,))\n",
    "tmp2 = np.asarray(im2, dtype=np.float32).reshape((784,))\n",
    "tmp3 = np.asarray(im3, dtype=np.float32).reshape((784,))\n",
    "tmp4 = np.asarray(im4, dtype=np.float32).reshape((784,))\n",
    "tmp5 = np.asarray(im5, dtype=np.float32).reshape((784,))\n",
    "tmp6 = np.asarray(im6, dtype=np.float32).reshape((784,))\n",
    "tmp7 = np.asarray(im7, dtype=np.float32).reshape((784,))\n",
    "tmp8 = np.asarray(im8, dtype=np.float32).reshape((784,))\n",
    "tmp9 = np.asarray(im9, dtype=np.float32).reshape((784,))\n",
    "\n",
    "testArray = []\n",
    "\n",
    "testArray.append(tmp0)\n",
    "testArray.append(tmp1)\n",
    "testArray.append(tmp2)\n",
    "testArray.append(tmp3)\n",
    "testArray.append(tmp4)\n",
    "testArray.append(tmp5)\n",
    "testArray.append(tmp6)\n",
    "testArray.append(tmp7)\n",
    "testArray.append(tmp8)\n",
    "testArray.append(tmp9)"
   ]
  },
  {
   "cell_type": "code",
   "execution_count": 4,
   "id": "ce8b6046",
   "metadata": {},
   "outputs": [],
   "source": [
    "testArray = np.asarray(testArray)\n",
    "\n",
    "testArray-= int(np.mean(testArray)) #отнимаем среднее\n",
    "testArray/= int(np.std(testArray)) #делим на станд. отклон.\n",
    "\n",
    "testArray = testArray.reshape(10, 1, 28, 28)\n",
    "\n",
    "#загрузка параметров нейронной сети\n",
    "#используются параметры автора репозитория, так как обучение занимает 3 часа\n",
    "save_path = 'params.pkl'\n",
    "params, cost = pickle.load(open(save_path, 'rb'))\n",
    "[f1, f2, w3, w4, b1, b2, b3, b4] = params"
   ]
  },
  {
   "cell_type": "code",
   "execution_count": 30,
   "id": "f55fc81f",
   "metadata": {
    "scrolled": false
   },
   "outputs": [
    {
     "name": "stdout",
     "output_type": "stream",
     "text": [
      "[[9.99966728e-01]\n",
      " [5.00302838e-06]\n",
      " [4.41971471e-09]\n",
      " [6.16043217e-09]\n",
      " [2.65067821e-09]\n",
      " [8.17834284e-10]\n",
      " [1.81393663e-05]\n",
      " [1.01154954e-05]\n",
      " [4.34953567e-12]\n",
      " [4.66638378e-10]]\n",
      "Прогноз - 0, с вероятностью 0.999967\n"
     ]
    },
    {
     "data": {
      "image/png": "[encoded data removed]",
      "text/plain": [
       "<PIL.BmpImagePlugin.BmpImageFile image mode=P size=28x28>"
      ]
     },
     "execution_count": 30,
     "metadata": {},
     "output_type": "execute_result"
    }
   ],
   "source": [
    "pred, prob, result_full = predict(testArray[0], f1, f2, w3, w4, b1, b2, b3, b4) #распознаем изображение с помощью нейросети\n",
    "print(result_full)\n",
    "print(\"Прогноз - %d, с вероятностью %f\" % (pred, prob))\n",
    "im0"
   ]
  },
  {
   "cell_type": "code",
   "execution_count": 31,
   "id": "c9234466",
   "metadata": {},
   "outputs": [
    {
     "name": "stdout",
     "output_type": "stream",
     "text": [
      "[[2.91131303e-04]\n",
      " [5.77450331e-02]\n",
      " [1.51893583e-03]\n",
      " [1.83363798e-04]\n",
      " [1.55864993e-01]\n",
      " [1.18614212e-05]\n",
      " [2.49321962e-05]\n",
      " [7.84347041e-01]\n",
      " [7.00757087e-06]\n",
      " [5.70108597e-06]]\n",
      "Прогноз - 7, с вероятностью 0.784347\n"
     ]
    },
    {
     "data": {
      "image/png": "[encoded data removed]",
      "text/plain": [
       "<PIL.BmpImagePlugin.BmpImageFile image mode=P size=28x28>"
      ]
     },
     "execution_count": 31,
     "metadata": {},
     "output_type": "execute_result"
    }
   ],
   "source": [
    "pred, prob, result_full = predict(testArray[1], f1, f2, w3, w4, b1, b2, b3, b4)\n",
    "print(result_full)\n",
    "print(\"Прогноз - %d, с вероятностью %f\" % (pred, prob))\n",
    "im1"
   ]
  },
  {
   "cell_type": "code",
   "execution_count": 32,
   "id": "001cce7c",
   "metadata": {},
   "outputs": [
    {
     "name": "stdout",
     "output_type": "stream",
     "text": [
      "[[6.26487565e-03]\n",
      " [7.59291927e-03]\n",
      " [4.16670208e-01]\n",
      " [3.35224524e-05]\n",
      " [4.87912757e-01]\n",
      " [3.54666588e-06]\n",
      " [7.53916393e-02]\n",
      " [6.13041025e-03]\n",
      " [1.07150539e-07]\n",
      " [1.40804715e-08]]\n",
      "Прогноз - 4, с вероятностью 0.487913\n"
     ]
    },
    {
     "data": {
      "image/png": "[encoded data removed]",
      "text/plain": [
       "<PIL.BmpImagePlugin.BmpImageFile image mode=P size=28x28>"
      ]
     },
     "execution_count": 32,
     "metadata": {},
     "output_type": "execute_result"
    }
   ],
   "source": [
    "pred, prob, result_full = predict(testArray[2], f1, f2, w3, w4, b1, b2, b3, b4)\n",
    "print(result_full)\n",
    "print(\"Прогноз - %d, с вероятностью %f\" % (pred, prob))\n",
    "im2"
   ]
  },
  {
   "cell_type": "code",
   "execution_count": 33,
   "id": "eb6317e0",
   "metadata": {},
   "outputs": [
    {
     "name": "stdout",
     "output_type": "stream",
     "text": [
      "[[1.87765697e-16]\n",
      " [1.64182052e-13]\n",
      " [4.92707941e-18]\n",
      " [1.00000000e+00]\n",
      " [7.39448774e-18]\n",
      " [1.21123702e-10]\n",
      " [1.32150766e-16]\n",
      " [1.65599892e-13]\n",
      " [5.13064631e-17]\n",
      " [8.80635611e-17]]\n",
      "Прогноз - 3, с вероятностью 1.000000\n"
     ]
    },
    {
     "data": {
      "image/png": "[encoded data removed]",
      "text/plain": [
       "<PIL.BmpImagePlugin.BmpImageFile image mode=P size=28x28>"
      ]
     },
     "execution_count": 33,
     "metadata": {},
     "output_type": "execute_result"
    }
   ],
   "source": [
    "pred, prob, result_full = predict(testArray[3], f1, f2, w3, w4, b1, b2, b3, b4)\n",
    "print(result_full)\n",
    "print(\"Прогноз - %d, с вероятностью %f\" % (pred, prob))\n",
    "im3"
   ]
  },
  {
   "cell_type": "code",
   "execution_count": 34,
   "id": "67122354",
   "metadata": {},
   "outputs": [
    {
     "name": "stdout",
     "output_type": "stream",
     "text": [
      "[[1.51289356e-14]\n",
      " [2.45737635e-10]\n",
      " [1.96043732e-14]\n",
      " [1.53491120e-16]\n",
      " [1.00000000e+00]\n",
      " [3.53020464e-13]\n",
      " [1.47880844e-12]\n",
      " [9.60691686e-18]\n",
      " [2.33060604e-17]\n",
      " [7.39588192e-13]]\n",
      "Прогноз - 4, с вероятностью 1.000000\n"
     ]
    },
    {
     "data": {
      "image/png": "[encoded data removed]",
      "text/plain": [
       "<PIL.BmpImagePlugin.BmpImageFile image mode=P size=28x28>"
      ]
     },
     "execution_count": 34,
     "metadata": {},
     "output_type": "execute_result"
    }
   ],
   "source": [
    "pred, prob, result_full = predict(testArray[4], f1, f2, w3, w4, b1, b2, b3, b4)\n",
    "print(result_full)\n",
    "print(\"Прогноз - %d, с вероятностью %f\" % (pred, prob))\n",
    "im4"
   ]
  },
  {
   "cell_type": "code",
   "execution_count": 35,
   "id": "7e9a821c",
   "metadata": {},
   "outputs": [
    {
     "name": "stdout",
     "output_type": "stream",
     "text": [
      "[[1.92977621e-09]\n",
      " [4.14475419e-10]\n",
      " [9.51346960e-12]\n",
      " [2.82968615e-08]\n",
      " [6.34068456e-13]\n",
      " [9.99990996e-01]\n",
      " [3.59170461e-10]\n",
      " [8.97228290e-06]\n",
      " [4.99691762e-15]\n",
      " [2.07375964e-10]]\n",
      "Прогноз - 5, с вероятностью 0.999991\n"
     ]
    },
    {
     "data": {
      "image/png": "[encoded data removed]",
      "text/plain": [
       "<PIL.BmpImagePlugin.BmpImageFile image mode=P size=28x28>"
      ]
     },
     "execution_count": 35,
     "metadata": {},
     "output_type": "execute_result"
    }
   ],
   "source": [
    "pred, prob, result_full = predict(testArray[5], f1, f2, w3, w4, b1, b2, b3, b4)\n",
    "print(result_full)\n",
    "print(\"Прогноз - %d, с вероятностью %f\" % (pred, prob))\n",
    "im5"
   ]
  },
  {
   "cell_type": "code",
   "execution_count": 36,
   "id": "e970c479",
   "metadata": {},
   "outputs": [
    {
     "name": "stdout",
     "output_type": "stream",
     "text": [
      "[[7.08961011e-07]\n",
      " [1.04280067e-08]\n",
      " [7.94699961e-12]\n",
      " [4.28055596e-10]\n",
      " [3.54248736e-13]\n",
      " [1.32775981e-08]\n",
      " [9.99998849e-01]\n",
      " [4.17130854e-07]\n",
      " [1.04906809e-09]\n",
      " [4.49219842e-12]]\n",
      "Прогноз - 6, с вероятностью 0.999999\n"
     ]
    },
    {
     "data": {
      "image/png": "[encoded data removed]",
      "text/plain": [
       "<PIL.BmpImagePlugin.BmpImageFile image mode=P size=28x28>"
      ]
     },
     "execution_count": 36,
     "metadata": {},
     "output_type": "execute_result"
    }
   ],
   "source": [
    "pred, prob, result_full = predict(testArray[6], f1, f2, w3, w4, b1, b2, b3, b4)\n",
    "print(result_full)\n",
    "print(\"Прогноз - %d, с вероятностью %f\" % (pred, prob))\n",
    "im6"
   ]
  },
  {
   "cell_type": "code",
   "execution_count": 37,
   "id": "2382ccdc",
   "metadata": {},
   "outputs": [
    {
     "name": "stdout",
     "output_type": "stream",
     "text": [
      "[[1.78355212e-06]\n",
      " [4.14699684e-04]\n",
      " [3.21270095e-01]\n",
      " [9.12562194e-02]\n",
      " [8.84334726e-03]\n",
      " [1.00542604e-06]\n",
      " [1.66552135e-06]\n",
      " [5.78198119e-01]\n",
      " [1.30589864e-05]\n",
      " [5.63712370e-09]]\n",
      "Прогноз - 7, с вероятностью 0.578198\n"
     ]
    },
    {
     "data": {
      "image/png": "[encoded data removed]",
      "text/plain": [
       "<PIL.BmpImagePlugin.BmpImageFile image mode=P size=28x28>"
      ]
     },
     "execution_count": 37,
     "metadata": {},
     "output_type": "execute_result"
    }
   ],
   "source": [
    "pred, prob, result_full = predict(testArray[7], f1, f2, w3, w4, b1, b2, b3, b4)\n",
    "print(result_full)\n",
    "print(\"Прогноз - %d, с вероятностью %f\" % (pred, prob))\n",
    "im7"
   ]
  },
  {
   "cell_type": "code",
   "execution_count": 38,
   "id": "3246f16f",
   "metadata": {},
   "outputs": [
    {
     "name": "stdout",
     "output_type": "stream",
     "text": [
      "[[5.21103149e-03]\n",
      " [6.32388160e-03]\n",
      " [1.13315956e-06]\n",
      " [4.20891751e-05]\n",
      " [2.19434846e-03]\n",
      " [2.86670523e-01]\n",
      " [4.12223321e-01]\n",
      " [2.87333094e-01]\n",
      " [2.61694503e-08]\n",
      " [5.52680709e-07]]\n",
      "Прогноз - 6, с вероятностью 0.412223\n"
     ]
    },
    {
     "data": {
      "image/png": "[encoded data removed]",
      "text/plain": [
       "<PIL.BmpImagePlugin.BmpImageFile image mode=P size=28x28>"
      ]
     },
     "execution_count": 38,
     "metadata": {},
     "output_type": "execute_result"
    }
   ],
   "source": [
    "pred, prob, result_full = predict(testArray[8], f1, f2, w3, w4, b1, b2, b3, b4)\n",
    "print(result_full)\n",
    "print(\"Прогноз - %d, с вероятностью %f\" % (pred, prob))\n",
    "im8"
   ]
  },
  {
   "cell_type": "code",
   "execution_count": 39,
   "id": "defb8fca",
   "metadata": {
    "scrolled": false
   },
   "outputs": [
    {
     "name": "stdout",
     "output_type": "stream",
     "text": [
      "[[7.82305685e-09]\n",
      " [3.31946336e-06]\n",
      " [7.45465348e-10]\n",
      " [1.90369161e-04]\n",
      " [5.61110532e-07]\n",
      " [9.99804220e-01]\n",
      " [7.33887858e-07]\n",
      " [1.07999895e-08]\n",
      " [2.57202705e-07]\n",
      " [5.19848618e-07]]\n",
      "Прогноз - 5, с вероятностью 0.999804\n"
     ]
    },
    {
     "data": {
      "image/png": "[encoded data removed]",
      "text/plain": [
       "<PIL.BmpImagePlugin.BmpImageFile image mode=P size=28x28>"
      ]
     },
     "execution_count": 39,
     "metadata": {},
     "output_type": "execute_result"
    }
   ],
   "source": [
    "pred, prob, result_full = predict(testArray[9], f1, f2, w3, w4, b1, b2, b3, b4) \n",
    "print(result_full)\n",
    "print(\"Прогноз - %d, с вероятностью %f\" % (pred, prob))\n",
    "im9"
   ]
  },
  {
   "cell_type": "code",
   "execution_count": null,
   "id": "eae9d1d3",
   "metadata": {},
   "outputs": [],
   "source": []
  }
 ],
 "metadata": {
  "kernelspec": {
   "display_name": "Python 3 (ipykernel)",
   "language": "python",
   "name": "python3"
  },
  "language_info": {
   "codemirror_mode": {
    "name": "ipython",
    "version": 3
   },
   "file_extension": ".py",
   "mimetype": "text/x-python",
   "name": "python",
   "nbconvert_exporter": "python",
   "pygments_lexer": "ipython3",
   "version": "3.11.5"
  }
 },
 "nbformat": 4,
 "nbformat_minor": 5
}
